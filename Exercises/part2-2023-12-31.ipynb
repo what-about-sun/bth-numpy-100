{
 "cells": [
  {
   "cell_type": "markdown",
   "metadata": {},
   "source": [
    "# Exercises\n",
    "# 100 numpy exercises\n",
    "from https://github.com/rougier/numpy-100"
   ]
  },
  {
   "cell_type": "markdown",
   "metadata": {},
   "source": [
    "#### 1. Import the numpy package under the name `np`\n",
    "`hint: import … as`"
   ]
  },
  {
   "cell_type": "code",
   "execution_count": 2,
   "metadata": {},
   "outputs": [],
   "source": [
    "import numpy as np\n",
    "import matplotlib.pyplot as plt"
   ]
  },
  {
   "cell_type": "markdown",
   "metadata": {},
   "source": [
    "#### 2. Print the numpy version and the configuration \n",
    "`hint: np.__version__, np.show_config)`"
   ]
  },
  {
   "cell_type": "code",
   "execution_count": 4,
   "metadata": {},
   "outputs": [],
   "source": [
    "#print(np.__version__)\n",
    "#np.show_config()"
   ]
  },
  {
   "cell_type": "code",
   "execution_count": 3,
   "metadata": {},
   "outputs": [],
   "source": [
    "def show_array2(Z):\n",
    "    Z = np.atleast_2d(Z)\n",
    "    rows,cols = Z.shape\n",
    "    fig = plt.figure(figsize=(cols/4.,rows/4.), dpi=172)\n",
    "    ax = plt.subplot(111)\n",
    "    plt.imshow(Z, cmap='bone_r', extent=[0,cols,0,rows],\n",
    "               vmin=0, vmax=max(1,Z.max()), interpolation='nearest',\n",
    "               origin='upper')\n",
    "    plt.xticks([]), plt.yticks([])\n",
    "    for pos in ['top', 'bottom', 'right', 'left']:\n",
    "        ax.spines[pos].set_edgecolor('k')\n",
    "        ax.spines[pos].set_alpha(.25)\n",
    "    print(Z)\n",
    "    plt.show()\n",
    "\n",
    "rows,cols = 5, 9"
   ]
  },
  {
   "cell_type": "markdown",
   "metadata": {},
   "source": [
    "#### 51. Create a structured array representing a position (x,y) and a color (r,g,b) \n",
    "`hint: dtype`"
   ]
  },
  {
   "cell_type": "code",
   "execution_count": 323,
   "metadata": {},
   "outputs": [
    {
     "name": "stdout",
     "output_type": "stream",
     "text": [
      "[(([0.], [0.]), ([0.], [0.], [0.])) (([0.], [0.]), ([0.], [0.], [0.]))\n",
      " (([0.], [0.]), ([0.], [0.], [0.])) (([0.], [0.]), ([0.], [0.], [0.]))\n",
      " (([0.], [0.]), ([0.], [0.], [0.])) (([0.], [0.]), ([0.], [0.], [0.]))\n",
      " (([0.], [0.]), ([0.], [0.], [0.])) (([0.], [0.]), ([0.], [0.], [0.]))\n",
      " (([0.], [0.]), ([0.], [0.], [0.])) (([0.], [0.]), ([0.], [0.], [0.]))]\n"
     ]
    }
   ],
   "source": [
    "Z = np.zeros(10, [ ('position', [ ('x', float, (1,)),\n",
    "                                  ('y', float, (1,))]),\n",
    "                   ('color',    [ ('r', float, (1,)),\n",
    "                                  ('g', float, (1,)),\n",
    "                                  ('b', float, (1,))])])\n",
    "print(Z)"
   ]
  },
  {
   "cell_type": "markdown",
   "metadata": {},
   "source": [
    "#### 52. Consider a random vector with shape (100,2) representing coordinates, find point by point distances \n",
    "`hint: np.atleast_2d, T, np.sqrt`"
   ]
  },
  {
   "cell_type": "code",
   "execution_count": 331,
   "metadata": {},
   "outputs": [
    {
     "name": "stdout",
     "output_type": "stream",
     "text": [
      "[[0.        ]\n",
      " [0.77843153]\n",
      " [0.28126284]\n",
      " [0.2540747 ]\n",
      " [0.46421814]\n",
      " [0.70733865]\n",
      " [0.42765534]\n",
      " [0.604862  ]\n",
      " [0.89521635]\n",
      " [0.48719575]\n",
      " [0.77843153]\n",
      " [0.        ]\n",
      " [0.88139379]\n",
      " [0.82101601]\n",
      " [0.33619541]\n",
      " [0.55923584]\n",
      " [0.43036858]\n",
      " [0.17398208]\n",
      " [0.45091031]\n",
      " [0.5227553 ]\n",
      " [0.28126284]\n",
      " [0.88139379]\n",
      " [0.        ]\n",
      " [0.06042159]\n",
      " [0.63150624]\n",
      " [0.60809929]\n",
      " [0.45657934]\n",
      " [0.72255457]\n",
      " [0.85071642]\n",
      " [0.42762945]\n",
      " [0.2540747 ]\n",
      " [0.82101601]\n",
      " [0.06042159]\n",
      " [0.        ]\n",
      " [0.57342724]\n",
      " [0.56391968]\n",
      " [0.39689237]\n",
      " [0.66222291]\n",
      " [0.80024665]\n",
      " [0.37453505]\n",
      " [0.46421814]\n",
      " [0.33619541]\n",
      " [0.63150624]\n",
      " [0.57342724]\n",
      " [0.        ]\n",
      " [0.5848789 ]\n",
      " [0.28052501]\n",
      " [0.17039471]\n",
      " [0.62923318]\n",
      " [0.42272638]\n",
      " [0.70733865]\n",
      " [0.55923584]\n",
      " [0.60809929]\n",
      " [0.56391968]\n",
      " [0.5848789 ]\n",
      " [0.        ]\n",
      " [0.33312659]\n",
      " [0.50993334]\n",
      " [0.26662761]\n",
      " [0.22177397]\n",
      " [0.42765534]\n",
      " [0.43036858]\n",
      " [0.45657934]\n",
      " [0.39689237]\n",
      " [0.28052501]\n",
      " [0.33312659]\n",
      " [0.        ]\n",
      " [0.28912459]\n",
      " [0.47102834]\n",
      " [0.14258798]\n",
      " [0.604862  ]\n",
      " [0.17398208]\n",
      " [0.72255457]\n",
      " [0.66222291]\n",
      " [0.17039471]\n",
      " [0.50993334]\n",
      " [0.28912459]\n",
      " [0.        ]\n",
      " [0.49127743]\n",
      " [0.40881746]\n",
      " [0.89521635]\n",
      " [0.45091031]\n",
      " [0.85071642]\n",
      " [0.80024665]\n",
      " [0.62923318]\n",
      " [0.26662761]\n",
      " [0.47102834]\n",
      " [0.49127743]\n",
      " [0.        ]\n",
      " [0.42732323]\n",
      " [0.48719575]\n",
      " [0.5227553 ]\n",
      " [0.42762945]\n",
      " [0.37453505]\n",
      " [0.42272638]\n",
      " [0.22177397]\n",
      " [0.14258798]\n",
      " [0.40881746]\n",
      " [0.42732323]\n",
      " [0.        ]]\n"
     ]
    }
   ],
   "source": [
    "Z = np.random.random((10,2))\n",
    "X,Y = np.atleast_2d(Z[:,0], Z[:,1])\n",
    "D = np.sqrt( (X-X.T)**2 + (Y-Y.T)**2)\n",
    "print(D.reshape(100,1))\n",
    "\n",
    "# Much faster with scipy\n",
    "#import scipy\n",
    "#import scipy.spatial\n",
    "#Z = np.random.random((10,2))\n",
    "#D = scipy.spatial.distance.cdist(Z,Z)\n",
    "#print(D)"
   ]
  },
  {
   "cell_type": "markdown",
   "metadata": {},
   "source": [
    "#### 53. How to convert a float (32 bits) array into an integer (32 bits) in place?\n",
    "`hint: view and [:] =`"
   ]
  },
  {
   "cell_type": "code",
   "execution_count": 338,
   "metadata": {},
   "outputs": [
    {
     "name": "stdout",
     "output_type": "stream",
     "text": [
      "[33.046844  39.9613    30.543257  34.057255   8.603593  18.766882\n",
      " 98.78378    3.7130334 56.4264    88.67043  ]\n",
      "[1107570680 1109383263 1106532503 1107835553 1091151953 1100358291\n",
      " 1120244044 1080926807 1113699490 1118918467]\n",
      "[33 39 30 34  8 18 98  3 56 88]\n"
     ]
    }
   ],
   "source": [
    "Z = (np.random.rand(10)*100).astype(np.float32)\n",
    "print(Z)\n",
    "Y = Z.view(np.int32)\n",
    "print(Y)\n",
    "Y[:] = Z\n",
    "print(Y)"
   ]
  },
  {
   "cell_type": "markdown",
   "metadata": {},
   "source": [
    "#### 54. How to read the following file? \n",
    " 1, 2, 3, 4, 5  \n",
    " 6,  ,  , 7, 8  \n",
    "  ,  , 9,10,11  \n",
    "`hint: np.genfromtxt`"
   ]
  },
  {
   "cell_type": "code",
   "execution_count": 340,
   "metadata": {},
   "outputs": [
    {
     "name": "stdout",
     "output_type": "stream",
     "text": [
      "[[ 1  2  3  4  5]\n",
      " [ 6 -1 -1  7  8]\n",
      " [-1 -1  9 10 11]]\n"
     ]
    }
   ],
   "source": [
    "from io import StringIO\n",
    "\n",
    "# Fake file\n",
    "s = StringIO('''1, 2, 3, 4, 5\n",
    "\n",
    "                6,  ,  , 7, 8\n",
    "\n",
    "                 ,  , 9,10,11\n",
    "''')\n",
    "Z = np.genfromtxt(s, delimiter=\",\", dtype=np.int32)\n",
    "print(Z)"
   ]
  },
  {
   "cell_type": "markdown",
   "metadata": {},
   "source": [
    "#### 55. What is the equivalent of enumerate for numpy arrays? \n",
    "`hint: np.ndenumerate, np.ndindex`"
   ]
  },
  {
   "cell_type": "code",
   "execution_count": 8,
   "metadata": {},
   "outputs": [
    {
     "name": "stdout",
     "output_type": "stream",
     "text": [
      "[[0 1 2]\n",
      " [3 4 5]\n",
      " [6 7 8]]\n",
      "\n",
      "(0, 0) 0\n",
      "(0, 1) 1\n",
      "(0, 2) 2\n",
      "(1, 0) 3\n",
      "(1, 1) 4\n",
      "(1, 2) 5\n",
      "(2, 0) 6\n",
      "(2, 1) 7\n",
      "(2, 2) 8\n",
      "\n",
      "(0, 0) 0\n",
      "(0, 1) 1\n",
      "(0, 2) 2\n",
      "(1, 0) 3\n",
      "(1, 1) 4\n",
      "(1, 2) 5\n",
      "(2, 0) 6\n",
      "(2, 1) 7\n",
      "(2, 2) 8\n"
     ]
    }
   ],
   "source": [
    "Z = np.arange(9).reshape(3,3)\n",
    "print(Z)\n",
    "print()\n",
    "for index, value in np.ndenumerate(Z):\n",
    "    print(index, value)\n",
    "print()\n",
    "for index in np.ndindex(Z.shape):\n",
    "    print(index, Z[index])\n"
   ]
  },
  {
   "cell_type": "markdown",
   "metadata": {},
   "source": [
    "#### 56. Generate a generic 2D Gaussian-like array \n",
    "`hint: np.meshgrid, np.exp`"
   ]
  },
  {
   "cell_type": "code",
   "execution_count": 9,
   "metadata": {},
   "outputs": [
    {
     "name": "stdout",
     "output_type": "stream",
     "text": [
      "[[0.36787944 0.44822088 0.51979489 0.57375342 0.60279818 0.60279818\n",
      "  0.57375342 0.51979489 0.44822088 0.36787944]\n",
      " [0.44822088 0.54610814 0.63331324 0.69905581 0.73444367 0.73444367\n",
      "  0.69905581 0.63331324 0.54610814 0.44822088]\n",
      " [0.51979489 0.63331324 0.73444367 0.81068432 0.85172308 0.85172308\n",
      "  0.81068432 0.73444367 0.63331324 0.51979489]\n",
      " [0.57375342 0.69905581 0.81068432 0.89483932 0.9401382  0.9401382\n",
      "  0.89483932 0.81068432 0.69905581 0.57375342]\n",
      " [0.60279818 0.73444367 0.85172308 0.9401382  0.98773022 0.98773022\n",
      "  0.9401382  0.85172308 0.73444367 0.60279818]\n",
      " [0.60279818 0.73444367 0.85172308 0.9401382  0.98773022 0.98773022\n",
      "  0.9401382  0.85172308 0.73444367 0.60279818]\n",
      " [0.57375342 0.69905581 0.81068432 0.89483932 0.9401382  0.9401382\n",
      "  0.89483932 0.81068432 0.69905581 0.57375342]\n",
      " [0.51979489 0.63331324 0.73444367 0.81068432 0.85172308 0.85172308\n",
      "  0.81068432 0.73444367 0.63331324 0.51979489]\n",
      " [0.44822088 0.54610814 0.63331324 0.69905581 0.73444367 0.73444367\n",
      "  0.69905581 0.63331324 0.54610814 0.44822088]\n",
      " [0.36787944 0.44822088 0.51979489 0.57375342 0.60279818 0.60279818\n",
      "  0.57375342 0.51979489 0.44822088 0.36787944]]\n"
     ]
    }
   ],
   "source": [
    "X, Y = np.meshgrid(np.linspace(-1,1,10), np.linspace(-1,1,10))\n",
    "D = np.sqrt(X*X+Y*Y)\n",
    "sigma, mu = 1.0, 0.0\n",
    "G = np.exp(-( (D-mu)**2 / ( 2.0 * sigma**2 ) ) )\n",
    "print(G)"
   ]
  },
  {
   "cell_type": "markdown",
   "metadata": {},
   "source": [
    "#### 57. How to randomly place p elements in a 2D array? \n",
    "`hint: np.put, np.random.choice`"
   ]
  },
  {
   "cell_type": "code",
   "execution_count": 25,
   "metadata": {},
   "outputs": [
    {
     "name": "stdout",
     "output_type": "stream",
     "text": [
      "[[0. 1. 0. 0. 0. 0. 0. 0. 0. 0.]\n",
      " [0. 0. 0. 0. 0. 0. 0. 0. 0. 0.]\n",
      " [0. 0. 0. 0. 0. 0. 0. 0. 0. 0.]\n",
      " [0. 0. 0. 0. 0. 0. 0. 0. 0. 0.]\n",
      " [0. 0. 0. 0. 0. 0. 0. 0. 0. 0.]\n",
      " [0. 0. 0. 0. 0. 1. 0. 0. 0. 0.]\n",
      " [0. 0. 0. 0. 0. 0. 0. 0. 0. 0.]\n",
      " [0. 0. 0. 0. 0. 0. 0. 0. 1. 0.]\n",
      " [0. 0. 0. 0. 0. 0. 0. 0. 0. 0.]\n",
      " [0. 0. 0. 0. 0. 0. 0. 0. 0. 0.]]\n"
     ]
    },
    {
     "data": {
      "image/png": "[encoded data removed]",
      "text/plain": [
       "<Figure size 430x430 with 1 Axes>"
      ]
     },
     "metadata": {},
     "output_type": "display_data"
    }
   ],
   "source": [
    "n = 10\n",
    "p = 3\n",
    "Z = np.zeros((n,n))\n",
    "np.put(Z, np.random.choice(range(n*n), p, replace=False),1)\n",
    "show_array2(Z)"
   ]
  },
  {
   "cell_type": "code",
   "execution_count": 32,
   "metadata": {},
   "outputs": [
    {
     "name": "stdout",
     "output_type": "stream",
     "text": [
      "[[1.   0.   0.   0.75 0.   0.25 1.   0.   0.   0.  ]\n",
      " [0.   0.   0.   0.   0.   0.   1.   1.   0.   0.  ]\n",
      " [0.   0.   0.   0.   0.   0.   0.   0.   0.   0.  ]\n",
      " [0.75 0.   0.   0.   0.   0.   0.   0.   0.25 0.  ]\n",
      " [0.   0.   0.   0.   0.   0.   1.   0.   0.   0.  ]\n",
      " [0.   0.   0.   0.   0.   0.   0.   0.   0.   0.  ]\n",
      " [0.   0.   0.   0.   0.   0.75 0.   0.   0.   0.  ]\n",
      " [0.   0.   0.   0.5  0.   0.   0.   0.   0.   0.  ]\n",
      " [0.   0.   0.   0.   0.   0.   0.   0.   0.   0.  ]\n",
      " [0.   0.   0.   0.   0.5  0.   0.   0.   0.   0.  ]]\n"
     ]
    },
    {
     "data": {
      "image/png": "[encoded data removed]",
      "text/plain": [
       "<Figure size 430x430 with 1 Axes>"
      ]
     },
     "metadata": {},
     "output_type": "display_data"
    }
   ],
   "source": [
    "n = 10\n",
    "p = 5\n",
    "Z = np.zeros((n,n))\n",
    "np.put(Z, np.random.choice(range(n*n), p, replace=False),1)\n",
    "np.put(Z, np.random.choice(range(n*n), p-1, replace=False),.75)\n",
    "np.put(Z, np.random.choice(range(n*n), p-2, replace=False),.5)\n",
    "np.put(Z, np.random.choice(range(n*n), p-3, replace=False),.25)\n",
    "show_array2(Z)"
   ]
  },
  {
   "cell_type": "markdown",
   "metadata": {},
   "source": [
    "#### 58. Subtract the mean of each row of a matrix \n",
    "`hint: mean(axis=,keepdims=)`"
   ]
  },
  {
   "cell_type": "code",
   "execution_count": 45,
   "metadata": {},
   "outputs": [
    {
     "name": "stdout",
     "output_type": "stream",
     "text": [
      "[[0.17231484 0.61291847 0.49388507 0.23517725 0.65065638 0.53867237\n",
      "  0.4979579  0.13782407 0.10276503 0.26911778]\n",
      " [0.10727899 0.58312749 0.44282892 0.30052148 0.18911167 0.59352243\n",
      "  0.82402888 0.99726417 0.11522638 0.78718978]\n",
      " [0.791457   0.41702407 0.97547795 0.72458723 0.41220109 0.62973809\n",
      "  0.28249033 0.58431238 0.20937786 0.35322232]\n",
      " [0.61700008 0.98742337 0.15928866 0.62941345 0.77432583 0.55108575\n",
      "  0.00486261 0.87117275 0.75146212 0.37784476]\n",
      " [0.80574855 0.65789229 0.23610054 0.10903251 0.06697325 0.19174388\n",
      "  0.42667734 0.30279115 0.92503688 0.69168331]]\n"
     ]
    },
    {
     "data": {
      "image/png": "[encoded data removed]",
      "text/plain": [
       "<Figure size 430x215 with 1 Axes>"
      ]
     },
     "metadata": {},
     "output_type": "display_data"
    },
    {
     "name": "stdout",
     "output_type": "stream",
     "text": [
      "[[-0.19881407  0.24178955  0.12275615 -0.13595166  0.27952746  0.16754345\n",
      "   0.12682899 -0.23330484 -0.26836388 -0.10201114]\n",
      " [-0.38673103  0.08911747 -0.0511811  -0.19348853 -0.30489835  0.09951241\n",
      "   0.33001886  0.50325415 -0.37878364  0.29317976]\n",
      " [ 0.25346816 -0.12096476  0.43748912  0.1865984  -0.12578774  0.09174926\n",
      "  -0.2554985   0.04632355 -0.32861097 -0.18476651]\n",
      " [ 0.04461214  0.41503543 -0.41309928  0.05702551  0.20193789 -0.02130218\n",
      "  -0.56752533  0.29878482  0.17907418 -0.19454317]\n",
      " [ 0.36438058  0.21652432 -0.20526743 -0.33233546 -0.37439472 -0.24962409\n",
      "  -0.01469063 -0.13857682  0.48366891  0.25031534]]\n"
     ]
    },
    {
     "data": {
      "image/png": "[encoded data removed]",
      "text/plain": [
       "<Figure size 430x215 with 1 Axes>"
      ]
     },
     "metadata": {},
     "output_type": "display_data"
    }
   ],
   "source": [
    "X = np.random.rand(5, 10)\n",
    "show_array2(X)\n",
    "# Recent versions of numpy\n",
    "Y = X - X.mean(axis=1, keepdims=True)\n",
    "\n",
    "# Older versions of numpy\n",
    "#Y = X - X.mean(axis=1).reshape(-1, 1)\n",
    "\n",
    "show_array2(Y)"
   ]
  },
  {
   "cell_type": "code",
   "execution_count": 54,
   "metadata": {},
   "outputs": [
    {
     "name": "stdout",
     "output_type": "stream",
     "text": [
      "[[0.52579843 0.14614086 0.86683449 0.57510696]\n",
      " [0.40578618 0.50112991 0.90452306 0.26165152]\n",
      " [0.09376007 0.35383285 0.02405527 0.6948723 ]]\n"
     ]
    },
    {
     "data": {
      "image/png": "[encoded data removed]",
      "text/plain": [
       "<Figure size 172x129 with 1 Axes>"
      ]
     },
     "metadata": {},
     "output_type": "display_data"
    },
    {
     "name": "stdout",
     "output_type": "stream",
     "text": [
      "[[-0.00267175 -0.38232933  0.33836431  0.04663677]\n",
      " [-0.11248649 -0.01714276  0.38625039 -0.25662114]\n",
      " [-0.19787005  0.06220273 -0.26757486  0.40324217]]\n"
     ]
    },
    {
     "data": {
      "image/png": "[encoded data removed]",
      "text/plain": [
       "<Figure size 172x129 with 1 Axes>"
      ]
     },
     "metadata": {},
     "output_type": "display_data"
    },
    {
     "name": "stdout",
     "output_type": "stream",
     "text": [
      "[[7.13827159e-06 1.46175715e-01 1.14490406e-01 2.17498861e-03]\n",
      " [1.26532103e-02 2.93874186e-04 1.49189366e-01 6.58544116e-02]\n",
      " [3.91525565e-02 3.86917968e-03 7.15963034e-02 1.62604252e-01]]\n"
     ]
    },
    {
     "data": {
      "image/png": "[encoded data removed]",
      "text/plain": [
       "<Figure size 172x129 with 1 Axes>"
      ]
     },
     "metadata": {},
     "output_type": "display_data"
    },
    {
     "name": "stdout",
     "output_type": "stream",
     "text": [
      "[[-0.06570492  0.08046365  0.04877834 -0.06353707]\n",
      " [-0.04434451 -0.05670384  0.09219165  0.0088567 ]\n",
      " [-0.03015302 -0.06543639  0.00229073  0.09329868]]\n"
     ]
    },
    {
     "data": {
      "image/png": "[encoded data removed]",
      "text/plain": [
       "<Figure size 172x129 with 1 Axes>"
      ]
     },
     "metadata": {},
     "output_type": "display_data"
    },
    {
     "name": "stdout",
     "output_type": "stream",
     "text": [
      "[[0.59150335 0.0656772  0.81805615 0.63864403]\n",
      " [0.45013068 0.55783375 0.81233141 0.25279483]\n",
      " [0.12391309 0.41926924 0.02176453 0.60157362]]\n"
     ]
    },
    {
     "data": {
      "image/png": "[encoded data removed]",
      "text/plain": [
       "<Figure size 172x129 with 1 Axes>"
      ]
     },
     "metadata": {},
     "output_type": "display_data"
    }
   ],
   "source": [
    "X = np.random.rand(3, 4)\n",
    "show_array2(X)\n",
    "Y = X - X.mean(axis=1, keepdims=True)\n",
    "show_array2(Y)\n",
    "Z = Y * Y\n",
    "show_array2(Z)\n",
    "W = Z - Z.mean(axis=1, keepdims=True)\n",
    "show_array2(W)\n",
    "V = X - W\n",
    "show_array2(V)"
   ]
  },
  {
   "cell_type": "markdown",
   "metadata": {},
   "source": [
    "#### 59. How to sort an array by the nth column? \n",
    "`hint: argsort`"
   ]
  },
  {
   "cell_type": "code",
   "execution_count": 74,
   "metadata": {},
   "outputs": [
    {
     "name": "stdout",
     "output_type": "stream",
     "text": [
      "[[ 8 55 44  9]\n",
      " [11  0 24 89]\n",
      " [46 91 95 32]\n",
      " [56 66 17 54]\n",
      " [86 74 60 27]]\n"
     ]
    },
    {
     "data": {
      "image/png": "[encoded data removed]",
      "text/plain": [
       "<Figure size 172x215 with 1 Axes>"
      ]
     },
     "metadata": {},
     "output_type": "display_data"
    },
    {
     "name": "stdout",
     "output_type": "stream",
     "text": [
      "[[11  0 24 89]\n",
      " [ 8 55 44  9]\n",
      " [56 66 17 54]\n",
      " [86 74 60 27]\n",
      " [46 91 95 32]]\n"
     ]
    },
    {
     "data": {
      "image/png": "[encoded data removed]",
      "text/plain": [
       "<Figure size 172x215 with 1 Axes>"
      ]
     },
     "metadata": {},
     "output_type": "display_data"
    },
    {
     "name": "stdout",
     "output_type": "stream",
     "text": [
      "[[56 66 17 54]\n",
      " [11  0 24 89]\n",
      " [ 8 55 44  9]\n",
      " [86 74 60 27]\n",
      " [46 91 95 32]]\n"
     ]
    },
    {
     "data": {
      "image/png": "[encoded data removed]",
      "text/plain": [
       "<Figure size 172x215 with 1 Axes>"
      ]
     },
     "metadata": {},
     "output_type": "display_data"
    },
    {
     "name": "stdout",
     "output_type": "stream",
     "text": [
      "[[ 8 55 44  9]\n",
      " [86 74 60 27]\n",
      " [46 91 95 32]\n",
      " [56 66 17 54]\n",
      " [11  0 24 89]]\n"
     ]
    },
    {
     "data": {
      "image/png": "[encoded data removed]",
      "text/plain": [
       "<Figure size 172x215 with 1 Axes>"
      ]
     },
     "metadata": {},
     "output_type": "display_data"
    }
   ],
   "source": [
    "Z = np.random.randint(0,100,(5,4))\n",
    "show_array2(Z[Z[:,0].argsort()])\n",
    "show_array2(Z[Z[:,1].argsort()])\n",
    "show_array2(Z[Z[:,2].argsort()])\n",
    "show_array2(Z[Z[:,3].argsort()])"
   ]
  },
  {
   "cell_type": "code",
   "execution_count": 75,
   "metadata": {},
   "outputs": [
    {
     "name": "stdout",
     "output_type": "stream",
     "text": [
      "[[93 63 76  7]\n",
      " [83 49 79 78]\n",
      " [69  6 17 84]\n",
      " [52 11 85  9]\n",
      " [27 56 64 42]]\n"
     ]
    },
    {
     "data": {
      "image/png": "[encoded data removed]",
      "text/plain": [
       "<Figure size 172x215 with 1 Axes>"
      ]
     },
     "metadata": {},
     "output_type": "display_data"
    },
    {
     "name": "stdout",
     "output_type": "stream",
     "text": [
      "[[93 63 76  7]\n",
      " [27 56 64 42]\n",
      " [83 49 79 78]\n",
      " [52 11 85  9]\n",
      " [69  6 17 84]]\n"
     ]
    },
    {
     "data": {
      "image/png": "[encoded data removed]",
      "text/plain": [
       "<Figure size 172x215 with 1 Axes>"
      ]
     },
     "metadata": {},
     "output_type": "display_data"
    },
    {
     "name": "stdout",
     "output_type": "stream",
     "text": [
      "[[52 11 85  9]\n",
      " [83 49 79 78]\n",
      " [93 63 76  7]\n",
      " [27 56 64 42]\n",
      " [69  6 17 84]]\n"
     ]
    },
    {
     "data": {
      "image/png": "[encoded data removed]",
      "text/plain": [
       "<Figure size 172x215 with 1 Axes>"
      ]
     },
     "metadata": {},
     "output_type": "display_data"
    },
    {
     "name": "stdout",
     "output_type": "stream",
     "text": [
      "[[69  6 17 84]\n",
      " [83 49 79 78]\n",
      " [27 56 64 42]\n",
      " [52 11 85  9]\n",
      " [93 63 76  7]]\n"
     ]
    },
    {
     "data": {
      "image/png": "[encoded data removed]",
      "text/plain": [
       "<Figure size 172x215 with 1 Axes>"
      ]
     },
     "metadata": {},
     "output_type": "display_data"
    }
   ],
   "source": [
    "## [::-1] slices the result in reverse order(descending order)\n",
    "Z = np.random.randint(0,100,(5,4))\n",
    "show_array2(Z[Z[:,0].argsort()[::-1]])\n",
    "show_array2(Z[Z[:,1].argsort()[::-1]])\n",
    "show_array2(Z[Z[:,2].argsort()[::-1]])\n",
    "show_array2(Z[Z[:,3].argsort()[::-1]])"
   ]
  },
  {
   "cell_type": "markdown",
   "metadata": {},
   "source": [
    "#### 60. How to tell if a given 2D array has null columns? \n",
    "`hint: any, ~`  \n",
    "* nums.any(axis=0): Returns a boolean array of shape (10,) with True at positions where there is at least one non-zero element in the corresponding column of nums, and False otherwise. The axis=0 parameter specifies that the operation should be performed along the columns.  \n",
    "* ~nums.any(axis=0): Inverts the boolean values in the array from step 2 using the bitwise NOT operator ~. Now, True indicates that a column has all zeros, and False indicates that there is at least one non-zero element in the column.  \n",
    "* (~nums.any(axis=0)).any(): Checks if there is at least one True value in the boolean array from step 3, i.e., if there is any column in nums with all zeros.  \n"
   ]
  },
  {
   "cell_type": "code",
   "execution_count": 88,
   "metadata": {},
   "outputs": [
    {
     "name": "stdout",
     "output_type": "stream",
     "text": [
      "[[0 0 0 0 2 2 2 0 1 0]\n",
      " [2 2 2 0 0 1 2 2 1 1]]\n",
      "[ True  True  True False  True  True  True  True  True  True]\n",
      "[False False False  True False False False False False False]\n",
      "True\n",
      "True\n",
      "[[ 0.  0.  1. nan]\n",
      " [ 0.  1.  2. nan]\n",
      " [ 0.  4.  5. nan]]\n",
      "[False False False  True]\n"
     ]
    }
   ],
   "source": [
    "Z = np.random.randint(0,3,(2,10))\n",
    "print(Z)\n",
    "print((Z.any(axis=0)))\n",
    "print((~Z.any(axis=0)))\n",
    "print((Z.any(axis=0)).any())\n",
    "print((~Z.any(axis=0)).any())\n",
    "\n",
    "\n",
    "# null : np.nan\n",
    "Z=np.array([\n",
    "    [0,0,1,np.nan],\n",
    "    [0,1,2,np.nan],\n",
    "    [0,4,5,np.nan]\n",
    "])\n",
    "print(Z)\n",
    "print(np.isnan(Z).all(axis=0))\n"
   ]
  },
  {
   "cell_type": "markdown",
   "metadata": {},
   "source": [
    "#### 61. Find the nearest value from a given value in an array \n",
    "`hint: np.abs, argmin, flat`"
   ]
  },
  {
   "cell_type": "code",
   "execution_count": 90,
   "metadata": {},
   "outputs": [
    {
     "name": "stdout",
     "output_type": "stream",
     "text": [
      "[0.62546035 0.17469158 0.22652263 0.72115681 0.7311294  0.95156663\n",
      " 0.59819013 0.49884806 0.89071503 0.95923459]\n",
      "0.4988480614730427\n"
     ]
    }
   ],
   "source": [
    "Z = np.random.uniform(0,1,10)\n",
    "print(Z)\n",
    "z = 0.5\n",
    "m = Z.flat[np.abs(Z - z).argmin()]\n",
    "print(m)"
   ]
  },
  {
   "cell_type": "markdown",
   "metadata": {},
   "source": [
    "#### 62. Considering two arrays with shape (1,3) and (3,1), how to compute their sum using an iterator? \n",
    "`hint: np.nditer`"
   ]
  },
  {
   "cell_type": "code",
   "execution_count": 95,
   "metadata": {},
   "outputs": [
    {
     "name": "stdout",
     "output_type": "stream",
     "text": [
      "[[0]\n",
      " [1]\n",
      " [2]]\n",
      "[[0 1 2]]\n",
      "[[0 1 2]\n",
      " [1 2 3]\n",
      " [2 3 4]]\n"
     ]
    }
   ],
   "source": [
    "A = np.arange(3).reshape(3,1)\n",
    "print(A)\n",
    "B = np.arange(3).reshape(1,3)\n",
    "print(B)\n",
    "it = np.nditer([A,B,None])\n",
    "for x,y,z in it: z[...] = x + y\n",
    "print(it.operands[2])"
   ]
  },
  {
   "cell_type": "markdown",
   "metadata": {},
   "source": [
    "#### 63. Create an array class that has a name attribute \n",
    "`hint: class method`"
   ]
  },
  {
   "cell_type": "code",
   "execution_count": 96,
   "metadata": {},
   "outputs": [
    {
     "name": "stdout",
     "output_type": "stream",
     "text": [
      "range_10\n"
     ]
    }
   ],
   "source": [
    "class NamedArray(np.ndarray):\n",
    "    def __new__(cls, array, name=\"no name\"):\n",
    "        obj = np.asarray(array).view(cls)\n",
    "        obj.name = name\n",
    "        return obj\n",
    "    def __array_finalize__(self, obj):\n",
    "        if obj is None: return\n",
    "        self.name = getattr(obj, 'name', \"no name\")\n",
    "\n",
    "Z = NamedArray(np.arange(10), \"range_10\")\n",
    "print (Z.name)"
   ]
  },
  {
   "cell_type": "markdown",
   "metadata": {},
   "source": [
    "#### 64. Consider a given vector, how to add 1 to each element indexed by a second vector (be careful with repeated indices)? \n",
    "`hint: np.bincount | np.add.at`"
   ]
  },
  {
   "cell_type": "code",
   "execution_count": 104,
   "metadata": {},
   "outputs": [
    {
     "name": "stdout",
     "output_type": "stream",
     "text": [
      "[1. 1. 1. 1. 1. 1. 1. 1. 1. 1.]\n",
      "[7 1 1 2 6]\n",
      "[1. 3. 2. 1. 1. 1. 2. 2. 1. 1.]\n",
      "[1. 3. 2. 1. 1. 1. 2. 2. 1. 1.]\n",
      "[0. 0. 0. 0. 0. 0. 0. 0. 0. 0.]\n",
      "[0. 2. 1. 0. 0. 0. 1. 1. 0. 0.]\n",
      "[0. 2. 1. 0. 0. 0. 1. 1. 0. 0.]\n"
     ]
    }
   ],
   "source": [
    "Z = np.ones(10)\n",
    "print(Z)\n",
    "I = np.random.randint(0,len(Z),5)\n",
    "print(I)\n",
    "Z += np.bincount(I, minlength=len(Z))\n",
    "print(Z)\n",
    "\n",
    "Z = np.ones(10)\n",
    "np.add.at(Z, I, 1)\n",
    "print(Z)\n",
    "\n",
    "Z = np.zeros(10)\n",
    "print(Z)\n",
    "Z += np.bincount(I, minlength=len(Z))\n",
    "print(Z)\n",
    "\n",
    "Z = np.zeros(10)\n",
    "np.add.at(Z, I, 1)\n",
    "print(Z)"
   ]
  },
  {
   "cell_type": "markdown",
   "metadata": {},
   "source": [
    "#### 65. How to accumulate elements of a vector (X) to an array (F) based on an index list (I)? \n",
    "`hint: np.bincount`"
   ]
  },
  {
   "cell_type": "code",
   "execution_count": 122,
   "metadata": {},
   "outputs": [
    {
     "name": "stdout",
     "output_type": "stream",
     "text": [
      "[0 2 0 2 0 2]\n",
      "[0 2 0 2 0 2]\n",
      "[6 2 1 1 0 2]\n",
      "[ 0.  3.  0.  7.  0. 11.]\n"
     ]
    }
   ],
   "source": [
    "#X = [1,2,3,4,5,6]\n",
    "#I = [1,3,9,3,4,1]\n",
    "#F = np.bincount(I,X)\n",
    "#print(F)\n",
    "\n",
    "I = [1,1,3,3,5,5]\n",
    "F = np.bincount(I)\n",
    "print(F)\n",
    "\n",
    "I = [1,3,3,1,5,5]\n",
    "F = np.bincount(I)\n",
    "print(F)\n",
    "\n",
    "I = [1,3,2,1,5,5,0,0,0,0,0,0]\n",
    "F = np.bincount(I)\n",
    "print(F)\n",
    "\n",
    "X = [1,2,3,4,5,6]\n",
    "I = [1,1,3,3,5,5]\n",
    "F = np.bincount(I,X)\n",
    "print(F)"
   ]
  },
  {
   "cell_type": "markdown",
   "metadata": {},
   "source": [
    "#### 66. Considering a (w,h,3) image of (dtype=ubyte), compute the number of unique colors \n",
    "`hint: np.unique`"
   ]
  },
  {
   "cell_type": "code",
   "execution_count": 134,
   "metadata": {},
   "outputs": [
    {
     "name": "stdout",
     "output_type": "stream",
     "text": [
      "64\n",
      "64\n"
     ]
    }
   ],
   "source": [
    "w, h = 256, 256\n",
    "I = np.random.randint(0, 4, (h, w, 3)).astype(np.ubyte)\n",
    "colors = np.unique(I.reshape(-1, 3), axis=0)\n",
    "n = len(colors)\n",
    "print(n)\n",
    "\n",
    "# Faster version\n",
    "w, h = 256, 256\n",
    "I = np.random.randint(0,4,(h,w,3), dtype=np.uint8)\n",
    "# View each pixel as a single 24-bit integer, rather than three 8-bit bytes\n",
    "I24 = np.dot(I.astype(np.uint32),[1,256,65536])\n",
    "# Count unique colours\n",
    "n = len(np.unique(I24))\n",
    "print(n)"
   ]
  },
  {
   "cell_type": "markdown",
   "metadata": {},
   "source": [
    "#### 67. Considering a four dimensions array, how to get sum over the last two axis at once? \n",
    "`hint: sum(axis=(-2,-1))`"
   ]
  },
  {
   "cell_type": "code",
   "execution_count": 137,
   "metadata": {},
   "outputs": [
    {
     "name": "stdout",
     "output_type": "stream",
     "text": [
      "[[57 61 54 63]\n",
      " [54 64 58 52]\n",
      " [45 53 58 56]]\n",
      "[[57 61 54 63]\n",
      " [54 64 58 52]\n",
      " [45 53 58 56]]\n"
     ]
    }
   ],
   "source": [
    "A = np.random.randint(0,10,(3,4,3,4))\n",
    "# solution by passing a tuple of axes (introduced in numpy 1.7.0)\n",
    "sum = A.sum(axis=(-2,-1))\n",
    "print(sum)\n",
    "# solution by flattening the last two dimensions into one\n",
    "# (useful for functions that don't accept tuples for axis argument)\n",
    "sum = A.reshape(A.shape[:-2] + (-1,)).sum(axis=-1)\n",
    "print(sum)"
   ]
  },
  {
   "cell_type": "markdown",
   "metadata": {},
   "source": [
    "#### 68. Considering a one-dimensional vector D, how to compute means of subsets of D using a vector S of same size describing subset  indices? \n",
    "`hint: np.bincount`"
   ]
  },
  {
   "cell_type": "code",
   "execution_count": 139,
   "metadata": {},
   "outputs": [
    {
     "name": "stdout",
     "output_type": "stream",
     "text": [
      "[0.62194867 0.63160308 0.42452921 0.52920394 0.48826825 0.3646541\n",
      " 0.46208531 0.59537502 0.63806042 0.42262635]\n",
      "0    0.621949\n",
      "1    0.631603\n",
      "2    0.424529\n",
      "3    0.529204\n",
      "4    0.488268\n",
      "5    0.364654\n",
      "6    0.462085\n",
      "7    0.595375\n",
      "8    0.638060\n",
      "9    0.422626\n",
      "dtype: float64\n"
     ]
    }
   ],
   "source": [
    "D = np.random.uniform(0,1,100)\n",
    "S = np.random.randint(0,10,100)\n",
    "D_sums = np.bincount(S, weights=D)\n",
    "D_counts = np.bincount(S)\n",
    "D_means = D_sums / D_counts\n",
    "print(D_means)\n",
    "\n",
    "# Pandas solution as a reference due to more intuitive code\n",
    "import pandas as pd\n",
    "print(pd.Series(D).groupby(S).mean())"
   ]
  },
  {
   "cell_type": "markdown",
   "metadata": {},
   "source": [
    "#### 69. How to get the diagonal of a dot product? \n",
    "`hint: np.diag`"
   ]
  },
  {
   "cell_type": "code",
   "execution_count": 143,
   "metadata": {},
   "outputs": [
    {
     "name": "stdout",
     "output_type": "stream",
     "text": [
      "[1.0638548  0.67656122 1.61282056 1.45499759 1.30044456]\n",
      "[1.0638548  0.67656122 1.61282056 1.45499759 1.30044456]\n",
      "[1.0638548  0.67656122 1.61282056 1.45499759 1.30044456]\n"
     ]
    }
   ],
   "source": [
    "A = np.random.uniform(0,1,(5,5))\n",
    "B = np.random.uniform(0,1,(5,5))\n",
    "\n",
    "# Slow version\n",
    "print(np.diag(np.dot(A, B)))\n",
    "\n",
    "# Fast version\n",
    "print(np.sum(A * B.T, axis=1))\n",
    "\n",
    "# Faster version\n",
    "print(np.einsum(\"ij,ji->i\", A, B))"
   ]
  },
  {
   "cell_type": "markdown",
   "metadata": {},
   "source": [
    "#### 70. Consider the vector [1, 2, 3, 4, 5], how to build a new vector with 3 consecutive zeros interleaved between each value? \n",
    "`hint: array[::4]`"
   ]
  },
  {
   "cell_type": "code",
   "execution_count": 147,
   "metadata": {},
   "outputs": [
    {
     "name": "stdout",
     "output_type": "stream",
     "text": [
      "[[1 2 3 4 5]]\n"
     ]
    },
    {
     "data": {
      "image/png": "[encoded data removed]",
      "text/plain": [
       "<Figure size 215x43 with 1 Axes>"
      ]
     },
     "metadata": {},
     "output_type": "display_data"
    },
    {
     "name": "stdout",
     "output_type": "stream",
     "text": [
      "[[1. 0. 0. 0. 2. 0. 0. 0. 3. 0. 0. 0. 4. 0. 0. 0. 5.]]\n"
     ]
    },
    {
     "data": {
      "image/png": "[encoded data removed]",
      "text/plain": [
       "<Figure size 731x43 with 1 Axes>"
      ]
     },
     "metadata": {},
     "output_type": "display_data"
    }
   ],
   "source": [
    "Z = np.array([1,2,3,4,5])\n",
    "show_array2(Z)\n",
    "nz = 3\n",
    "Z0 = np.zeros(len(Z) + (len(Z)-1)*(nz))\n",
    "Z0[::nz+1] = Z\n",
    "show_array2(Z0)"
   ]
  },
  {
   "cell_type": "markdown",
   "metadata": {},
   "source": [
    "#### 71. Consider an array of dimension (5,5,3), how to mulitply it by an array with dimensions (5,5)? \n",
    "`hint: array[:, :, None]`"
   ]
  },
  {
   "cell_type": "code",
   "execution_count": 152,
   "metadata": {},
   "outputs": [
    {
     "name": "stdout",
     "output_type": "stream",
     "text": [
      "[[[2. 2. 2.]\n",
      "  [2. 2. 2.]\n",
      "  [2. 2. 2.]\n",
      "  [2. 2. 2.]\n",
      "  [2. 2. 2.]]\n",
      "\n",
      " [[2. 2. 2.]\n",
      "  [2. 2. 2.]\n",
      "  [2. 2. 2.]\n",
      "  [2. 2. 2.]\n",
      "  [2. 2. 2.]]\n",
      "\n",
      " [[2. 2. 2.]\n",
      "  [2. 2. 2.]\n",
      "  [2. 2. 2.]\n",
      "  [2. 2. 2.]\n",
      "  [2. 2. 2.]]\n",
      "\n",
      " [[2. 2. 2.]\n",
      "  [2. 2. 2.]\n",
      "  [2. 2. 2.]\n",
      "  [2. 2. 2.]\n",
      "  [2. 2. 2.]]\n",
      "\n",
      " [[2. 2. 2.]\n",
      "  [2. 2. 2.]\n",
      "  [2. 2. 2.]\n",
      "  [2. 2. 2.]\n",
      "  [2. 2. 2.]]]\n"
     ]
    }
   ],
   "source": [
    "A = np.ones((5,5,3))\n",
    "B = 2*np.ones((5,5))\n",
    "print(A * B[:,:,None])"
   ]
  },
  {
   "cell_type": "markdown",
   "metadata": {},
   "source": [
    "#### 72. How to swap two rows of an array? \n",
    "`hint: array[[]] = array[[]]`"
   ]
  },
  {
   "cell_type": "code",
   "execution_count": 164,
   "metadata": {},
   "outputs": [
    {
     "name": "stdout",
     "output_type": "stream",
     "text": [
      "[[ 0  1  2  3  4  5  6  7  8  9 10 11 12 13 14 15 16 17 18 19]\n",
      " [20 21 22 23 24 25 26 27 28 29 30 31 32 33 34 35 36 37 38 39]\n",
      " [40 41 42 43 44 45 46 47 48 49 50 51 52 53 54 55 56 57 58 59]\n",
      " [60 61 62 63 64 65 66 67 68 69 70 71 72 73 74 75 76 77 78 79]]\n"
     ]
    },
    {
     "data": {
      "image/png": "[encoded data removed]",
      "text/plain": [
       "<Figure size 860x172 with 1 Axes>"
      ]
     },
     "metadata": {},
     "output_type": "display_data"
    },
    {
     "name": "stdout",
     "output_type": "stream",
     "text": [
      "[[20 21 22 23 24 25 26 27 28 29 30 31 32 33 34 35 36 37 38 39]\n",
      " [ 0  1  2  3  4  5  6  7  8  9 10 11 12 13 14 15 16 17 18 19]\n",
      " [40 41 42 43 44 45 46 47 48 49 50 51 52 53 54 55 56 57 58 59]\n",
      " [60 61 62 63 64 65 66 67 68 69 70 71 72 73 74 75 76 77 78 79]]\n"
     ]
    },
    {
     "data": {
      "image/png": "[encoded data removed]",
      "text/plain": [
       "<Figure size 860x172 with 1 Axes>"
      ]
     },
     "metadata": {},
     "output_type": "display_data"
    },
    {
     "name": "stdout",
     "output_type": "stream",
     "text": [
      "[[20 21 22 23 24 25 26 27 28 29 30 31 32 33 34 35 36 37 38 39]\n",
      " [ 0  1  2  3  4  5  6  7  8  9 10 11 12 13 14 15 16 17 18 19]\n",
      " [60 61 62 63 64 65 66 67 68 69 70 71 72 73 74 75 76 77 78 79]\n",
      " [40 41 42 43 44 45 46 47 48 49 50 51 52 53 54 55 56 57 58 59]]\n"
     ]
    },
    {
     "data": {
      "image/png": "[encoded data removed]",
      "text/plain": [
       "<Figure size 860x172 with 1 Axes>"
      ]
     },
     "metadata": {},
     "output_type": "display_data"
    },
    {
     "name": "stdout",
     "output_type": "stream",
     "text": [
      "[[20 21 22 23 24 25 26 27 28 29 30 31 32 33 34 35 36 37 38 39  0  1  2  3\n",
      "   4  5  6  7  8  9 10 11 12 13 14 15 16 17 18 19]\n",
      " [60 61 62 63 64 65 66 67 68 69 70 71 72 73 74 75 76 77 78 79 40 41 42 43\n",
      "  44 45 46 47 48 49 50 51 52 53 54 55 56 57 58 59]]\n"
     ]
    },
    {
     "data": {
      "image/png": "[encoded data removed]",
      "text/plain": [
       "<Figure size 1720x86 with 1 Axes>"
      ]
     },
     "metadata": {},
     "output_type": "display_data"
    }
   ],
   "source": [
    "A = np.arange(80).reshape(4,20)\n",
    "show_array2(A)\n",
    "A[[0,1]] = A[[1,0]]\n",
    "show_array2(A)\n",
    "A[[2,3]] = A[[3,2]]\n",
    "show_array2(A)\n",
    "A = A.reshape(2,40)\n",
    "show_array2(A) "
   ]
  },
  {
   "cell_type": "markdown",
   "metadata": {},
   "source": [
    "#### 73. Consider a set of 10 triplets describing 10 triangles (with shared vertices), find the set of unique line segments composing all the  triangles \n",
    "`hint: repeat, np.roll, np.sort, view, np.unique`"
   ]
  },
  {
   "cell_type": "code",
   "execution_count": 165,
   "metadata": {},
   "outputs": [
    {
     "name": "stdout",
     "output_type": "stream",
     "text": [
      "[(13, 15) (13, 25) (14, 37) (14, 94) (15, 25) (19, 47) (19, 87) (20, 22)\n",
      " (20, 33) (20, 68) (20, 87) (22, 68) (27, 47) (27, 94) (28, 47) (28, 52)\n",
      " (33, 87) (37, 94) (47, 52) (47, 87) (47, 94) (52, 62) (52, 86) (58, 66)\n",
      " (58, 77) (62, 86) (66, 77) (85, 97) (85, 99) (97, 99)]\n"
     ]
    }
   ],
   "source": [
    "faces = np.random.randint(0,100,(10,3))\n",
    "F = np.roll(faces.repeat(2,axis=1),-1,axis=1)\n",
    "F = F.reshape(len(F)*3,2)\n",
    "F = np.sort(F,axis=1)\n",
    "G = F.view( dtype=[('p0',F.dtype),('p1',F.dtype)] )\n",
    "G = np.unique(G)\n",
    "print(G)"
   ]
  },
  {
   "cell_type": "markdown",
   "metadata": {},
   "source": [
    "#### 74. Given a sorted array C that corresponds to a bincount, how to produce an array A such that np.bincount(A) == C? \n",
    "`hint: np.repeat`"
   ]
  },
  {
   "cell_type": "code",
   "execution_count": 167,
   "metadata": {},
   "outputs": [
    {
     "name": "stdout",
     "output_type": "stream",
     "text": [
      "[1 1 2 3 4 4 6]\n"
     ]
    }
   ],
   "source": [
    "C = np.bincount([1,1,2,3,4,4,6])\n",
    "A = np.repeat(np.arange(len(C)), C)\n",
    "print(A)"
   ]
  },
  {
   "cell_type": "code",
   "execution_count": 177,
   "metadata": {},
   "outputs": [
    {
     "name": "stdout",
     "output_type": "stream",
     "text": [
      "[[ 1  2  3  5  8 13 21 34 55 89]]\n"
     ]
    },
    {
     "data": {
      "image/png": "[encoded data removed]",
      "text/plain": [
       "<Figure size 430x43 with 1 Axes>"
      ]
     },
     "metadata": {},
     "output_type": "display_data"
    },
    {
     "name": "stdout",
     "output_type": "stream",
     "text": [
      "[[ 1  1  1  2  2  2  3  3  3  5  5  5  8  8  8 13 13 13 21 21 21 34 34 34\n",
      "  55 55 55 89 89 89]]\n"
     ]
    },
    {
     "data": {
      "image/png": "[encoded data removed]",
      "text/plain": [
       "<Figure size 1290x43 with 1 Axes>"
      ]
     },
     "metadata": {},
     "output_type": "display_data"
    },
    {
     "name": "stdout",
     "output_type": "stream",
     "text": [
      "[[ 1  1  1  1  1  1  1  1  1  2  2  2  2  2  2  2  2  2  3  3  3  3  3  3\n",
      "   3  3  3  5  5  5  5  5  5  5  5  5  8  8  8  8  8  8  8  8  8 13 13 13\n",
      "  13 13 13 13 13 13 21 21 21 21 21 21 21 21 21 34 34 34 34 34 34 34 34 34\n",
      "  55 55 55 55 55 55 55 55 55 89 89 89 89 89 89 89 89 89]]\n"
     ]
    },
    {
     "data": {
      "image/png": "[encoded data removed]",
      "text/plain": [
       "<Figure size 3870x43 with 1 Axes>"
      ]
     },
     "metadata": {},
     "output_type": "display_data"
    },
    {
     "name": "stdout",
     "output_type": "stream",
     "text": [
      "[[ 1  1  1  1  1  1  1  1  1  2]\n",
      " [ 2  2  2  2  2  2  2  2  3  3]\n",
      " [ 3  3  3  3  3  3  3  5  5  5]\n",
      " [ 5  5  5  5  5  5  8  8  8  8]\n",
      " [ 8  8  8  8  8 13 13 13 13 13]\n",
      " [13 13 13 13 21 21 21 21 21 21]\n",
      " [21 21 21 34 34 34 34 34 34 34]\n",
      " [34 34 55 55 55 55 55 55 55 55]\n",
      " [55 89 89 89 89 89 89 89 89 89]]\n"
     ]
    },
    {
     "data": {
      "image/png": "[encoded data removed]",
      "text/plain": [
       "<Figure size 430x387 with 1 Axes>"
      ]
     },
     "metadata": {},
     "output_type": "display_data"
    }
   ],
   "source": [
    "\n",
    "show_array2(X) \n",
    "X = np.repeat(X, 3)\n",
    "show_array2(X)\n",
    "X = np.repeat(X, 3)\n",
    "show_array2(X)\n",
    "X = X.reshape(9,10)\n",
    "show_array2(X)"
   ]
  },
  {
   "cell_type": "markdown",
   "metadata": {},
   "source": [
    "#### 75. How to compute averages using a sliding window over an array? \n",
    "`hint: np.cumsum, from numpy.lib.stride_tricks import sliding_window_view (np>=1.20.0)`"
   ]
  },
  {
   "cell_type": "code",
   "execution_count": 191,
   "metadata": {},
   "outputs": [
    {
     "name": "stdout",
     "output_type": "stream",
     "text": [
      "[[  1   2   3   5   8  13  21  34  55  89 144]]\n"
     ]
    },
    {
     "data": {
      "image/png": "[encoded data removed]",
      "text/plain": [
       "<Figure size 473x43 with 1 Axes>"
      ]
     },
     "metadata": {},
     "output_type": "display_data"
    },
    {
     "name": "stdout",
     "output_type": "stream",
     "text": [
      "[[ 2.          3.33333333  5.33333333  8.66666667 14.         22.66666667\n",
      "  36.66666667 59.33333333 96.        ]]\n"
     ]
    },
    {
     "data": {
      "image/png": "[encoded data removed]",
      "text/plain": [
       "<Figure size 387x43 with 1 Axes>"
      ]
     },
     "metadata": {},
     "output_type": "display_data"
    },
    {
     "name": "stdout",
     "output_type": "stream",
     "text": [
      "[[ 2.75  4.5   7.25 11.75 19.   30.75 49.75 80.5 ]]\n"
     ]
    },
    {
     "data": {
      "image/png": "[encoded data removed]",
      "text/plain": [
       "<Figure size 344x43 with 1 Axes>"
      ]
     },
     "metadata": {},
     "output_type": "display_data"
    },
    {
     "name": "stdout",
     "output_type": "stream",
     "text": [
      "[[ 3.8  6.2 10.  16.2 26.2 42.4 68.6]]\n"
     ]
    },
    {
     "data": {
      "image/png": "[encoded data removed]",
      "text/plain": [
       "<Figure size 301x43 with 1 Axes>"
      ]
     },
     "metadata": {},
     "output_type": "display_data"
    },
    {
     "name": "stdout",
     "output_type": "stream",
     "text": [
      "[[ 5.33333333  8.66666667 14.         22.66666667 36.66666667 59.33333333]]\n"
     ]
    },
    {
     "data": {
      "image/png": "[encoded data removed]",
      "text/plain": [
       "<Figure size 258x43 with 1 Axes>"
      ]
     },
     "metadata": {},
     "output_type": "display_data"
    }
   ],
   "source": [
    "def moving_average(a, n=3) :\n",
    "    ret = np.cumsum(a, dtype=float)\n",
    "    ret[n:] = ret[n:] - ret[:-n]\n",
    "    return ret[n - 1:] / n\n",
    "#Z = np.arange(20)\n",
    "Z = [1, 2, 3, 5, 8, 13, 21, 34, 55, 89, 144]\n",
    "show_array2(Z) \n",
    "show_array2(moving_average(Z, n=3))\n",
    "show_array2(moving_average(Z, n=4))\n",
    "show_array2(moving_average(Z, n=5))\n",
    "show_array2(moving_average(Z, n=6))\n",
    "\n",
    "#or\n",
    "#from numpy.lib.stride_tricks import sliding_window_view\n",
    "#Z = np.arange(20)\n",
    "#print(sliding_window_view(Z, window_shape=3).mean(axis=-1))"
   ]
  },
  {
   "cell_type": "markdown",
   "metadata": {},
   "source": [
    "#### 76. Consider a one-dimensional array Z, build a two-dimensional array whose first row is (Z[0],Z[1],Z[2]) and each subsequent row is  shifted by 1 (last row should be (Z[-3],Z[-2],Z[-1]) \n",
    "`hint: from numpy.lib import stride_tricks, from numpy.lib.stride_tricks import sliding_window_view (np>=1.20.0)`"
   ]
  },
  {
   "cell_type": "code",
   "execution_count": 196,
   "metadata": {},
   "outputs": [
    {
     "name": "stdout",
     "output_type": "stream",
     "text": [
      "[[0 1 2]\n",
      " [1 2 3]\n",
      " [2 3 4]\n",
      " [3 4 5]\n",
      " [4 5 6]\n",
      " [5 6 7]\n",
      " [6 7 8]\n",
      " [7 8 9]]\n"
     ]
    },
    {
     "data": {
      "image/png": "[encoded data removed]",
      "text/plain": [
       "<Figure size 129x344 with 1 Axes>"
      ]
     },
     "metadata": {},
     "output_type": "display_data"
    },
    {
     "name": "stdout",
     "output_type": "stream",
     "text": [
      "[[0 1 2 3 4]\n",
      " [1 2 3 4 5]\n",
      " [2 3 4 5 6]\n",
      " [3 4 5 6 7]\n",
      " [4 5 6 7 8]]\n"
     ]
    },
    {
     "data": {
      "image/png": "[encoded data removed]",
      "text/plain": [
       "<Figure size 215x215 with 1 Axes>"
      ]
     },
     "metadata": {},
     "output_type": "display_data"
    }
   ],
   "source": [
    "from numpy.lib import stride_tricks\n",
    "\n",
    "def rolling(a, window):\n",
    "    shape = (a.size - window + 1, window)\n",
    "    strides = (a.strides[0], a.strides[0])\n",
    "    return stride_tricks.as_strided(a, shape=shape, strides=strides)\n",
    "Z = rolling(np.arange(10), 3)\n",
    "show_array2(Z)\n",
    "Z = rolling(np.arange(9), 5)\n",
    "show_array2(Z)"
   ]
  },
  {
   "cell_type": "code",
   "execution_count": 200,
   "metadata": {},
   "outputs": [
    {
     "name": "stdout",
     "output_type": "stream",
     "text": [
      "[[0 1 2]\n",
      " [1 2 3]\n",
      " [2 3 4]\n",
      " [3 4 5]\n",
      " [4 5 6]\n",
      " [5 6 7]\n",
      " [6 7 8]\n",
      " [7 8 9]]\n"
     ]
    },
    {
     "data": {
      "image/png": "[encoded data removed]",
      "text/plain": [
       "<Figure size 129x344 with 1 Axes>"
      ]
     },
     "metadata": {},
     "output_type": "display_data"
    },
    {
     "name": "stdout",
     "output_type": "stream",
     "text": [
      "[[0 1 2 3 4]\n",
      " [1 2 3 4 5]\n",
      " [2 3 4 5 6]\n",
      " [3 4 5 6 7]\n",
      " [4 5 6 7 8]]\n"
     ]
    },
    {
     "data": {
      "image/png": "[encoded data removed]",
      "text/plain": [
       "<Figure size 215x215 with 1 Axes>"
      ]
     },
     "metadata": {},
     "output_type": "display_data"
    }
   ],
   "source": [
    "Z = np.arange(10)\n",
    "Z = (sliding_window_view(Z, window_shape=3))\n",
    "show_array2(Z)\n",
    "Z = np.arange(9)\n",
    "Z = (sliding_window_view(Z, window_shape=5))\n",
    "show_array2(Z)"
   ]
  },
  {
   "cell_type": "markdown",
   "metadata": {},
   "source": [
    "#### 77. How to negate a boolean, or to change the sign of a float inplace? \n",
    "`hint: np.logical_not, np.negative`"
   ]
  },
  {
   "cell_type": "code",
   "execution_count": 207,
   "metadata": {},
   "outputs": [
    {
     "name": "stdout",
     "output_type": "stream",
     "text": [
      "[[0 1 1 1 0 1 0 0 0 0 0 1 0 1 0 0 1 1 0 0 1 1 0 0 0 0 1 1 1 1 1 0 0 0 1]]\n"
     ]
    },
    {
     "data": {
      "image/png": "[encoded data removed]",
      "text/plain": [
       "<Figure size 1505x43 with 1 Axes>"
      ]
     },
     "metadata": {},
     "output_type": "display_data"
    },
    {
     "name": "stdout",
     "output_type": "stream",
     "text": [
      "[[1 0 0 0 1 0 1 1 1 1 1 0 1 0 1 1 0 0 1 1 0 0 1 1 1 1 0 0 0 0 0 1 1 1 0]]\n"
     ]
    },
    {
     "data": {
      "image/png": "[encoded data removed]",
      "text/plain": [
       "<Figure size 1505x43 with 1 Axes>"
      ]
     },
     "metadata": {},
     "output_type": "display_data"
    }
   ],
   "source": [
    "Z = np.random.randint(0,2,35)\n",
    "show_array2(Z)\n",
    "show_array2(np.logical_not(Z, out=Z))"
   ]
  },
  {
   "cell_type": "code",
   "execution_count": 210,
   "metadata": {},
   "outputs": [
    {
     "name": "stdout",
     "output_type": "stream",
     "text": [
      "[[ 0.15883762  0.35611567  0.07448428 -0.44900891  0.89096977 -0.7645971\n",
      "   0.50232611 -0.54950596  0.4124981   0.73570275 -0.20426277 -0.69965601\n",
      "   0.75161759  0.99586247  0.78122294 -0.32568547  0.44819019  0.83584299\n",
      "  -0.17048692  0.90789083  0.37164419  0.53903977 -0.81362751 -0.42663298\n",
      "   0.27964958  0.21198798 -0.92891825 -0.34168089 -0.4232084  -0.64543419\n",
      "   0.67160682  0.40141752  0.46740032 -0.48266681  0.88653573]]\n"
     ]
    },
    {
     "data": {
      "image/png": "[encoded data removed]",
      "text/plain": [
       "<Figure size 1505x43 with 1 Axes>"
      ]
     },
     "metadata": {},
     "output_type": "display_data"
    },
    {
     "name": "stdout",
     "output_type": "stream",
     "text": [
      "[[-0.15883762 -0.35611567 -0.07448428  0.44900891 -0.89096977  0.7645971\n",
      "  -0.50232611  0.54950596 -0.4124981  -0.73570275  0.20426277  0.69965601\n",
      "  -0.75161759 -0.99586247 -0.78122294  0.32568547 -0.44819019 -0.83584299\n",
      "   0.17048692 -0.90789083 -0.37164419 -0.53903977  0.81362751  0.42663298\n",
      "  -0.27964958 -0.21198798  0.92891825  0.34168089  0.4232084   0.64543419\n",
      "  -0.67160682 -0.40141752 -0.46740032  0.48266681 -0.88653573]]\n"
     ]
    },
    {
     "data": {
      "image/png": "[encoded data removed]",
      "text/plain": [
       "<Figure size 1505x43 with 1 Axes>"
      ]
     },
     "metadata": {},
     "output_type": "display_data"
    }
   ],
   "source": [
    "Z = np.random.uniform(-1.0,1.0,35)\n",
    "show_array2(Z)\n",
    "show_array2(np.negative(Z, out=Z))"
   ]
  },
  {
   "cell_type": "markdown",
   "metadata": {},
   "source": [
    "#### 78. Consider 2 sets of points P0,P1 describing lines (2d) and a point p, how to compute distance from p to each line i (P0[i],P1[i])? \n",
    "`No hints provided...`"
   ]
  },
  {
   "cell_type": "code",
   "execution_count": 211,
   "metadata": {},
   "outputs": [
    {
     "name": "stdout",
     "output_type": "stream",
     "text": [
      "[12.6001915   7.3175798   2.65503771  6.7126495   3.26747403  1.77267878\n",
      "  3.03836693  1.34778084  3.68622965  2.92142246]\n"
     ]
    }
   ],
   "source": [
    "def distance(P0, P1, p):\n",
    "    T = P1 - P0\n",
    "    L = (T**2).sum(axis=1)\n",
    "    U = -((P0[:,0]-p[...,0])*T[:,0] + (P0[:,1]-p[...,1])*T[:,1]) / L\n",
    "    U = U.reshape(len(U),1)\n",
    "    D = P0 + U*T - p\n",
    "    return np.sqrt((D**2).sum(axis=1))\n",
    "\n",
    "P0 = np.random.uniform(-10,10,(10,2))\n",
    "P1 = np.random.uniform(-10,10,(10,2))\n",
    "p  = np.random.uniform(-10,10,( 1,2))\n",
    "print(distance(P0, P1, p))"
   ]
  },
  {
   "cell_type": "markdown",
   "metadata": {},
   "source": [
    "#### 79. Consider 2 sets of points P0,P1 describing lines (2d) and a set of points P, how to compute distance from each point j (P[j]) to each line i (P0[i],P1[i])? \n",
    "`No hints provided...`"
   ]
  },
  {
   "cell_type": "code",
   "execution_count": 213,
   "metadata": {},
   "outputs": [],
   "source": [
    "#P0 = np.random.uniform(-10, 10, (10,2))\n",
    "#P1 = np.random.uniform(-10,10,(10,2))\n",
    "#p = np.random.uniform(-10, 10, (10,2))\n",
    "#print(np.array([distance(P0,P1,p_i) for p_i in p]))"
   ]
  },
  {
   "cell_type": "markdown",
   "metadata": {},
   "source": [
    "#### 80. Consider an arbitrary array, write a function that extract a subpart with a fixed shape and centered on a given element (pad with a `fill` value when necessary) \n",
    "`hint: minimum maximum`"
   ]
  },
  {
   "cell_type": "code",
   "execution_count": 220,
   "metadata": {},
   "outputs": [
    {
     "data": {
      "text/plain": [
       "'\\nZ = np.random.randint(0,10,(10,10))\\nshape = (5,5)\\nfill  = 0\\nposition = (1,1)\\n\\nR = np.ones(shape, dtype=Z.dtype)*fill\\nP  = np.array(list(position)).astype(int)\\nRs = np.array(list(R.shape)).astype(int)\\nZs = np.array(list(Z.shape)).astype(int)\\n\\nR_start = np.zeros((len(shape),)).astype(int)\\nR_stop  = np.array(list(shape)).astype(int)\\nZ_start = (P-Rs//2)\\nZ_stop  = (P+Rs//2)+Rs%2\\n\\nR_start = (R_start - np.minimum(Z_start,0)).tolist()\\nZ_start = (np.maximum(Z_start,0)).tolist()\\nR_stop = np.maximum(R_start, (R_stop - np.maximum(Z_stop-Zs,0))).tolist()\\nZ_stop = (np.minimum(Z_stop,Zs)).tolist()\\n\\nr = [slice(start,stop) for start,stop in zip(R_start,R_stop)]\\nz = [slice(start,stop) for start,stop in zip(Z_start,Z_stop)]\\nR[r] = Z[z]\\nprint(Z)\\nprint(R)\\n'"
      ]
     },
     "execution_count": 220,
     "metadata": {},
     "output_type": "execute_result"
    }
   ],
   "source": [
    "'''\n",
    "Z = np.random.randint(0,10,(10,10))\n",
    "shape = (5,5)\n",
    "fill  = 0\n",
    "position = (1,1)\n",
    "\n",
    "R = np.ones(shape, dtype=Z.dtype)*fill\n",
    "P  = np.array(list(position)).astype(int)\n",
    "Rs = np.array(list(R.shape)).astype(int)\n",
    "Zs = np.array(list(Z.shape)).astype(int)\n",
    "\n",
    "R_start = np.zeros((len(shape),)).astype(int)\n",
    "R_stop  = np.array(list(shape)).astype(int)\n",
    "Z_start = (P-Rs//2)\n",
    "Z_stop  = (P+Rs//2)+Rs%2\n",
    "\n",
    "R_start = (R_start - np.minimum(Z_start,0)).tolist()\n",
    "Z_start = (np.maximum(Z_start,0)).tolist()\n",
    "R_stop = np.maximum(R_start, (R_stop - np.maximum(Z_stop-Zs,0))).tolist()\n",
    "Z_stop = (np.minimum(Z_stop,Zs)).tolist()\n",
    "\n",
    "r = [slice(start,stop) for start,stop in zip(R_start,R_stop)]\n",
    "z = [slice(start,stop) for start,stop in zip(Z_start,Z_stop)]\n",
    "R[r] = Z[z]\n",
    "print(Z)\n",
    "print(R)\n",
    "'''"
   ]
  },
  {
   "cell_type": "markdown",
   "metadata": {},
   "source": [
    "#### 81. Consider an array Z = [1,2,3,4,5,6,7,8,9,10,11,12,13,14], how to generate an array R = [[1,2,3,4], [2,3,4,5], [3,4,5,6], ..., [11,12,13,14]]? \n",
    "`hint: stride_tricks.as_strided, from numpy.lib.stride_tricks import sliding_window_view (np>=1.20.0)`"
   ]
  },
  {
   "cell_type": "code",
   "execution_count": 223,
   "metadata": {},
   "outputs": [
    {
     "name": "stdout",
     "output_type": "stream",
     "text": [
      "[[ 1  2  3  4]\n",
      " [ 2  3  4  5]\n",
      " [ 3  4  5  6]\n",
      " [ 4  5  6  7]\n",
      " [ 5  6  7  8]\n",
      " [ 6  7  8  9]\n",
      " [ 7  8  9 10]\n",
      " [ 8  9 10 11]\n",
      " [ 9 10 11 12]\n",
      " [10 11 12 13]\n",
      " [11 12 13 14]]\n"
     ]
    },
    {
     "data": {
      "image/png": "[encoded data removed]",
      "text/plain": [
       "<Figure size 172x473 with 1 Axes>"
      ]
     },
     "metadata": {},
     "output_type": "display_data"
    },
    {
     "name": "stdout",
     "output_type": "stream",
     "text": [
      "[[ 1  2  3  4]\n",
      " [ 2  3  4  5]\n",
      " [ 3  4  5  6]\n",
      " [ 4  5  6  7]\n",
      " [ 5  6  7  8]\n",
      " [ 6  7  8  9]\n",
      " [ 7  8  9 10]\n",
      " [ 8  9 10 11]\n",
      " [ 9 10 11 12]\n",
      " [10 11 12 13]\n",
      " [11 12 13 14]]\n"
     ]
    },
    {
     "data": {
      "image/png": "[encoded data removed]",
      "text/plain": [
       "<Figure size 172x473 with 1 Axes>"
      ]
     },
     "metadata": {},
     "output_type": "display_data"
    }
   ],
   "source": [
    "Z = np.arange(1,15,dtype=np.uint32)\n",
    "R = stride_tricks.as_strided(Z,(11,4),(4,4))\n",
    "show_array2(R)\n",
    "#or\n",
    "Z = np.arange(1, 15, dtype=np.uint32)\n",
    "R = (sliding_window_view(Z, window_shape=4))\n",
    "show_array2(R)"
   ]
  },
  {
   "cell_type": "markdown",
   "metadata": {},
   "source": [
    "#### 82. Compute a matrix rank \n",
    "`hint: np.linalg.svd, np.linalg.matrix_rank`"
   ]
  },
  {
   "cell_type": "code",
   "execution_count": 224,
   "metadata": {},
   "outputs": [
    {
     "name": "stdout",
     "output_type": "stream",
     "text": [
      "10\n",
      "10\n"
     ]
    }
   ],
   "source": [
    "Z = np.random.uniform(0,1,(10,10))\n",
    "U, S, V = np.linalg.svd(Z) # Singular Value Decomposition\n",
    "rank = np.sum(S > 1e-10)\n",
    "print(rank)\n",
    "#or\n",
    "rank = np.linalg.matrix_rank(Z)\n",
    "print(rank)"
   ]
  },
  {
   "cell_type": "markdown",
   "metadata": {},
   "source": [
    "#### 83. How to find the most frequent value in an array?\n",
    "`hint: np.bincount, argmax`"
   ]
  },
  {
   "cell_type": "code",
   "execution_count": 238,
   "metadata": {},
   "outputs": [
    {
     "name": "stdout",
     "output_type": "stream",
     "text": [
      "[3 9 7 2 3 6 8 5 3 7 9 4 5 8 2 4 6 4 1 9 4 8 3 6 3 3 6 4 7 7 8 8 4 0 2 3 8\n",
      " 7 4 9 0 2 4 7 0 5 0 8 1 1]\n",
      "[4 3 4 7 8 3 4 6 7 4]\n",
      "4\n",
      "1\n"
     ]
    }
   ],
   "source": [
    "Z = np.random.randint(0,10,50)\n",
    "print(Z)\n",
    "print(np.bincount(Z))\n",
    "print(np.bincount(Z).argmax())\n",
    "print(np.bincount(Z).argmin())"
   ]
  },
  {
   "cell_type": "markdown",
   "metadata": {},
   "source": [
    "#### 84. Extract all the contiguous 3x3 blocks from a random 10x10 matrix \n",
    "`hint: stride_tricks.as_strided, from numpy.lib.stride_tricks import sliding_window_view (np>=1.20.0)`"
   ]
  },
  {
   "cell_type": "code",
   "execution_count": 239,
   "metadata": {},
   "outputs": [
    {
     "name": "stdout",
     "output_type": "stream",
     "text": [
      "[[[[3 4 3]\n",
      "   [4 1 2]\n",
      "   [3 4 4]]\n",
      "\n",
      "  [[4 3 0]\n",
      "   [1 2 1]\n",
      "   [4 4 1]]\n",
      "\n",
      "  [[3 0 0]\n",
      "   [2 1 1]\n",
      "   [4 1 4]]\n",
      "\n",
      "  [[0 0 0]\n",
      "   [1 1 4]\n",
      "   [1 4 2]]\n",
      "\n",
      "  [[0 0 1]\n",
      "   [1 4 3]\n",
      "   [4 2 2]]\n",
      "\n",
      "  [[0 1 2]\n",
      "   [4 3 3]\n",
      "   [2 2 3]]\n",
      "\n",
      "  [[1 2 0]\n",
      "   [3 3 2]\n",
      "   [2 3 4]]\n",
      "\n",
      "  [[2 0 3]\n",
      "   [3 2 4]\n",
      "   [3 4 3]]]\n",
      "\n",
      "\n",
      " [[[4 1 2]\n",
      "   [3 4 4]\n",
      "   [2 0 2]]\n",
      "\n",
      "  [[1 2 1]\n",
      "   [4 4 1]\n",
      "   [0 2 4]]\n",
      "\n",
      "  [[2 1 1]\n",
      "   [4 1 4]\n",
      "   [2 4 3]]\n",
      "\n",
      "  [[1 1 4]\n",
      "   [1 4 2]\n",
      "   [4 3 3]]\n",
      "\n",
      "  [[1 4 3]\n",
      "   [4 2 2]\n",
      "   [3 3 3]]\n",
      "\n",
      "  [[4 3 3]\n",
      "   [2 2 3]\n",
      "   [3 3 3]]\n",
      "\n",
      "  [[3 3 2]\n",
      "   [2 3 4]\n",
      "   [3 3 3]]\n",
      "\n",
      "  [[3 2 4]\n",
      "   [3 4 3]\n",
      "   [3 3 4]]]\n",
      "\n",
      "\n",
      " [[[3 4 4]\n",
      "   [2 0 2]\n",
      "   [1 2 4]]\n",
      "\n",
      "  [[4 4 1]\n",
      "   [0 2 4]\n",
      "   [2 4 3]]\n",
      "\n",
      "  [[4 1 4]\n",
      "   [2 4 3]\n",
      "   [4 3 0]]\n",
      "\n",
      "  [[1 4 2]\n",
      "   [4 3 3]\n",
      "   [3 0 2]]\n",
      "\n",
      "  [[4 2 2]\n",
      "   [3 3 3]\n",
      "   [0 2 1]]\n",
      "\n",
      "  [[2 2 3]\n",
      "   [3 3 3]\n",
      "   [2 1 0]]\n",
      "\n",
      "  [[2 3 4]\n",
      "   [3 3 3]\n",
      "   [1 0 0]]\n",
      "\n",
      "  [[3 4 3]\n",
      "   [3 3 4]\n",
      "   [0 0 0]]]\n",
      "\n",
      "\n",
      " [[[2 0 2]\n",
      "   [1 2 4]\n",
      "   [3 2 2]]\n",
      "\n",
      "  [[0 2 4]\n",
      "   [2 4 3]\n",
      "   [2 2 2]]\n",
      "\n",
      "  [[2 4 3]\n",
      "   [4 3 0]\n",
      "   [2 2 4]]\n",
      "\n",
      "  [[4 3 3]\n",
      "   [3 0 2]\n",
      "   [2 4 0]]\n",
      "\n",
      "  [[3 3 3]\n",
      "   [0 2 1]\n",
      "   [4 0 2]]\n",
      "\n",
      "  [[3 3 3]\n",
      "   [2 1 0]\n",
      "   [0 2 3]]\n",
      "\n",
      "  [[3 3 3]\n",
      "   [1 0 0]\n",
      "   [2 3 1]]\n",
      "\n",
      "  [[3 3 4]\n",
      "   [0 0 0]\n",
      "   [3 1 1]]]\n",
      "\n",
      "\n",
      " [[[1 2 4]\n",
      "   [3 2 2]\n",
      "   [4 3 3]]\n",
      "\n",
      "  [[2 4 3]\n",
      "   [2 2 2]\n",
      "   [3 3 3]]\n",
      "\n",
      "  [[4 3 0]\n",
      "   [2 2 4]\n",
      "   [3 3 2]]\n",
      "\n",
      "  [[3 0 2]\n",
      "   [2 4 0]\n",
      "   [3 2 0]]\n",
      "\n",
      "  [[0 2 1]\n",
      "   [4 0 2]\n",
      "   [2 0 2]]\n",
      "\n",
      "  [[2 1 0]\n",
      "   [0 2 3]\n",
      "   [0 2 0]]\n",
      "\n",
      "  [[1 0 0]\n",
      "   [2 3 1]\n",
      "   [2 0 4]]\n",
      "\n",
      "  [[0 0 0]\n",
      "   [3 1 1]\n",
      "   [0 4 3]]]\n",
      "\n",
      "\n",
      " [[[3 2 2]\n",
      "   [4 3 3]\n",
      "   [4 2 1]]\n",
      "\n",
      "  [[2 2 2]\n",
      "   [3 3 3]\n",
      "   [2 1 0]]\n",
      "\n",
      "  [[2 2 4]\n",
      "   [3 3 2]\n",
      "   [1 0 4]]\n",
      "\n",
      "  [[2 4 0]\n",
      "   [3 2 0]\n",
      "   [0 4 2]]\n",
      "\n",
      "  [[4 0 2]\n",
      "   [2 0 2]\n",
      "   [4 2 2]]\n",
      "\n",
      "  [[0 2 3]\n",
      "   [0 2 0]\n",
      "   [2 2 0]]\n",
      "\n",
      "  [[2 3 1]\n",
      "   [2 0 4]\n",
      "   [2 0 3]]\n",
      "\n",
      "  [[3 1 1]\n",
      "   [0 4 3]\n",
      "   [0 3 0]]]\n",
      "\n",
      "\n",
      " [[[4 3 3]\n",
      "   [4 2 1]\n",
      "   [0 4 4]]\n",
      "\n",
      "  [[3 3 3]\n",
      "   [2 1 0]\n",
      "   [4 4 0]]\n",
      "\n",
      "  [[3 3 2]\n",
      "   [1 0 4]\n",
      "   [4 0 3]]\n",
      "\n",
      "  [[3 2 0]\n",
      "   [0 4 2]\n",
      "   [0 3 2]]\n",
      "\n",
      "  [[2 0 2]\n",
      "   [4 2 2]\n",
      "   [3 2 2]]\n",
      "\n",
      "  [[0 2 0]\n",
      "   [2 2 0]\n",
      "   [2 2 2]]\n",
      "\n",
      "  [[2 0 4]\n",
      "   [2 0 3]\n",
      "   [2 2 4]]\n",
      "\n",
      "  [[0 4 3]\n",
      "   [0 3 0]\n",
      "   [2 4 0]]]\n",
      "\n",
      "\n",
      " [[[4 2 1]\n",
      "   [0 4 4]\n",
      "   [2 2 3]]\n",
      "\n",
      "  [[2 1 0]\n",
      "   [4 4 0]\n",
      "   [2 3 3]]\n",
      "\n",
      "  [[1 0 4]\n",
      "   [4 0 3]\n",
      "   [3 3 4]]\n",
      "\n",
      "  [[0 4 2]\n",
      "   [0 3 2]\n",
      "   [3 4 2]]\n",
      "\n",
      "  [[4 2 2]\n",
      "   [3 2 2]\n",
      "   [4 2 1]]\n",
      "\n",
      "  [[2 2 0]\n",
      "   [2 2 2]\n",
      "   [2 1 2]]\n",
      "\n",
      "  [[2 0 3]\n",
      "   [2 2 4]\n",
      "   [1 2 3]]\n",
      "\n",
      "  [[0 3 0]\n",
      "   [2 4 0]\n",
      "   [2 3 0]]]]\n",
      "[[[[4 3 2]\n",
      "   [0 4 1]\n",
      "   [2 3 1]]\n",
      "\n",
      "  [[3 2 0]\n",
      "   [4 1 0]\n",
      "   [3 1 1]]\n",
      "\n",
      "  [[2 0 2]\n",
      "   [1 0 0]\n",
      "   [1 1 1]]\n",
      "\n",
      "  [[0 2 0]\n",
      "   [0 0 1]\n",
      "   [1 1 3]]\n",
      "\n",
      "  [[2 0 2]\n",
      "   [0 1 1]\n",
      "   [1 3 2]]\n",
      "\n",
      "  [[0 2 3]\n",
      "   [1 1 4]\n",
      "   [3 2 2]]\n",
      "\n",
      "  [[2 3 1]\n",
      "   [1 4 0]\n",
      "   [2 2 0]]\n",
      "\n",
      "  [[3 1 4]\n",
      "   [4 0 3]\n",
      "   [2 0 2]]]\n",
      "\n",
      "\n",
      " [[[0 4 1]\n",
      "   [2 3 1]\n",
      "   [3 2 1]]\n",
      "\n",
      "  [[4 1 0]\n",
      "   [3 1 1]\n",
      "   [2 1 3]]\n",
      "\n",
      "  [[1 0 0]\n",
      "   [1 1 1]\n",
      "   [1 3 2]]\n",
      "\n",
      "  [[0 0 1]\n",
      "   [1 1 3]\n",
      "   [3 2 1]]\n",
      "\n",
      "  [[0 1 1]\n",
      "   [1 3 2]\n",
      "   [2 1 4]]\n",
      "\n",
      "  [[1 1 4]\n",
      "   [3 2 2]\n",
      "   [1 4 3]]\n",
      "\n",
      "  [[1 4 0]\n",
      "   [2 2 0]\n",
      "   [4 3 4]]\n",
      "\n",
      "  [[4 0 3]\n",
      "   [2 0 2]\n",
      "   [3 4 0]]]\n",
      "\n",
      "\n",
      " [[[2 3 1]\n",
      "   [3 2 1]\n",
      "   [1 3 2]]\n",
      "\n",
      "  [[3 1 1]\n",
      "   [2 1 3]\n",
      "   [3 2 4]]\n",
      "\n",
      "  [[1 1 1]\n",
      "   [1 3 2]\n",
      "   [2 4 0]]\n",
      "\n",
      "  [[1 1 3]\n",
      "   [3 2 1]\n",
      "   [4 0 2]]\n",
      "\n",
      "  [[1 3 2]\n",
      "   [2 1 4]\n",
      "   [0 2 0]]\n",
      "\n",
      "  [[3 2 2]\n",
      "   [1 4 3]\n",
      "   [2 0 4]]\n",
      "\n",
      "  [[2 2 0]\n",
      "   [4 3 4]\n",
      "   [0 4 3]]\n",
      "\n",
      "  [[2 0 2]\n",
      "   [3 4 0]\n",
      "   [4 3 2]]]\n",
      "\n",
      "\n",
      " [[[3 2 1]\n",
      "   [1 3 2]\n",
      "   [4 0 0]]\n",
      "\n",
      "  [[2 1 3]\n",
      "   [3 2 4]\n",
      "   [0 0 2]]\n",
      "\n",
      "  [[1 3 2]\n",
      "   [2 4 0]\n",
      "   [0 2 4]]\n",
      "\n",
      "  [[3 2 1]\n",
      "   [4 0 2]\n",
      "   [2 4 4]]\n",
      "\n",
      "  [[2 1 4]\n",
      "   [0 2 0]\n",
      "   [4 4 0]]\n",
      "\n",
      "  [[1 4 3]\n",
      "   [2 0 4]\n",
      "   [4 0 0]]\n",
      "\n",
      "  [[4 3 4]\n",
      "   [0 4 3]\n",
      "   [0 0 3]]\n",
      "\n",
      "  [[3 4 0]\n",
      "   [4 3 2]\n",
      "   [0 3 2]]]\n",
      "\n",
      "\n",
      " [[[1 3 2]\n",
      "   [4 0 0]\n",
      "   [3 2 1]]\n",
      "\n",
      "  [[3 2 4]\n",
      "   [0 0 2]\n",
      "   [2 1 4]]\n",
      "\n",
      "  [[2 4 0]\n",
      "   [0 2 4]\n",
      "   [1 4 0]]\n",
      "\n",
      "  [[4 0 2]\n",
      "   [2 4 4]\n",
      "   [4 0 2]]\n",
      "\n",
      "  [[0 2 0]\n",
      "   [4 4 0]\n",
      "   [0 2 2]]\n",
      "\n",
      "  [[2 0 4]\n",
      "   [4 0 0]\n",
      "   [2 2 3]]\n",
      "\n",
      "  [[0 4 3]\n",
      "   [0 0 3]\n",
      "   [2 3 1]]\n",
      "\n",
      "  [[4 3 2]\n",
      "   [0 3 2]\n",
      "   [3 1 3]]]\n",
      "\n",
      "\n",
      " [[[4 0 0]\n",
      "   [3 2 1]\n",
      "   [3 3 4]]\n",
      "\n",
      "  [[0 0 2]\n",
      "   [2 1 4]\n",
      "   [3 4 3]]\n",
      "\n",
      "  [[0 2 4]\n",
      "   [1 4 0]\n",
      "   [4 3 2]]\n",
      "\n",
      "  [[2 4 4]\n",
      "   [4 0 2]\n",
      "   [3 2 4]]\n",
      "\n",
      "  [[4 4 0]\n",
      "   [0 2 2]\n",
      "   [2 4 2]]\n",
      "\n",
      "  [[4 0 0]\n",
      "   [2 2 3]\n",
      "   [4 2 4]]\n",
      "\n",
      "  [[0 0 3]\n",
      "   [2 3 1]\n",
      "   [2 4 2]]\n",
      "\n",
      "  [[0 3 2]\n",
      "   [3 1 3]\n",
      "   [4 2 1]]]\n",
      "\n",
      "\n",
      " [[[3 2 1]\n",
      "   [3 3 4]\n",
      "   [1 1 2]]\n",
      "\n",
      "  [[2 1 4]\n",
      "   [3 4 3]\n",
      "   [1 2 3]]\n",
      "\n",
      "  [[1 4 0]\n",
      "   [4 3 2]\n",
      "   [2 3 0]]\n",
      "\n",
      "  [[4 0 2]\n",
      "   [3 2 4]\n",
      "   [3 0 3]]\n",
      "\n",
      "  [[0 2 2]\n",
      "   [2 4 2]\n",
      "   [0 3 2]]\n",
      "\n",
      "  [[2 2 3]\n",
      "   [4 2 4]\n",
      "   [3 2 1]]\n",
      "\n",
      "  [[2 3 1]\n",
      "   [2 4 2]\n",
      "   [2 1 0]]\n",
      "\n",
      "  [[3 1 3]\n",
      "   [4 2 1]\n",
      "   [1 0 3]]]\n",
      "\n",
      "\n",
      " [[[3 3 4]\n",
      "   [1 1 2]\n",
      "   [2 3 4]]\n",
      "\n",
      "  [[3 4 3]\n",
      "   [1 2 3]\n",
      "   [3 4 1]]\n",
      "\n",
      "  [[4 3 2]\n",
      "   [2 3 0]\n",
      "   [4 1 1]]\n",
      "\n",
      "  [[3 2 4]\n",
      "   [3 0 3]\n",
      "   [1 1 4]]\n",
      "\n",
      "  [[2 4 2]\n",
      "   [0 3 2]\n",
      "   [1 4 2]]\n",
      "\n",
      "  [[4 2 4]\n",
      "   [3 2 1]\n",
      "   [4 2 1]]\n",
      "\n",
      "  [[2 4 2]\n",
      "   [2 1 0]\n",
      "   [2 1 0]]\n",
      "\n",
      "  [[4 2 1]\n",
      "   [1 0 3]\n",
      "   [1 0 3]]]]\n"
     ]
    }
   ],
   "source": [
    "Z = np.random.randint(0,5,(10,10))\n",
    "n = 3\n",
    "i = 1 + (Z.shape[0]-3)\n",
    "j = 1 + (Z.shape[1]-3)\n",
    "C = stride_tricks.as_strided(Z, shape=(i, j, n, n), strides=Z.strides + Z.strides)\n",
    "print(C)\n",
    "\n",
    "#or\n",
    "Z = np.random.randint(0,5,(10,10))\n",
    "print(sliding_window_view(Z, window_shape=(3, 3)))"
   ]
  },
  {
   "cell_type": "markdown",
   "metadata": {},
   "source": [
    "#### 85. Create a 2D array subclass such that Z[i,j] == Z[j,i] \n",
    "`hint: class method`"
   ]
  },
  {
   "cell_type": "code",
   "execution_count": 256,
   "metadata": {},
   "outputs": [
    {
     "name": "stdout",
     "output_type": "stream",
     "text": [
      "[[ 2 14  9  9  4]\n",
      " [14  8 15  0  9]\n",
      " [ 9 15  6 15 12]\n",
      " [ 9  0 15  7 14]\n",
      " [ 4  9 12 14  7]]\n"
     ]
    },
    {
     "data": {
      "image/png": "[encoded data removed]",
      "text/plain": [
       "<Figure size 215x215 with 1 Axes>"
      ]
     },
     "metadata": {},
     "output_type": "display_data"
    },
    {
     "name": "stdout",
     "output_type": "stream",
     "text": [
      "[[4 6 3]\n",
      " [6 5 3]\n",
      " [3 3 2]]\n"
     ]
    },
    {
     "data": {
      "image/png": "[encoded data removed]",
      "text/plain": [
       "<Figure size 129x129 with 1 Axes>"
      ]
     },
     "metadata": {},
     "output_type": "display_data"
    }
   ],
   "source": [
    "class Symetric(np.ndarray):\n",
    "    def __setitem__(self, index, value):\n",
    "        i,j = index\n",
    "        super(Symetric, self).__setitem__((i,j), value)\n",
    "        super(Symetric, self).__setitem__((j,i), value)\n",
    "\n",
    "def symetric(Z):\n",
    "    return np.asarray(Z + Z.T - np.diag(Z.diagonal())).view(Symetric)\n",
    "\n",
    "S = symetric(np.random.randint(0,10,(5,5)))\n",
    "#S[2,3] = 42\n",
    "show_array2(S)\n",
    "\n",
    "S = symetric(np.random.randint(0,10,(3,3)))\n",
    "show_array2(S)"
   ]
  },
  {
   "cell_type": "markdown",
   "metadata": {},
   "source": [
    "#### 86. Consider a set of p matrices with shape (n,n) and a set of p vectors with shape (n,1). How to compute the sum of of the p matrix products at once? (result has shape (n,1)) \n",
    "`hint: np.tensordot`"
   ]
  },
  {
   "cell_type": "code",
   "execution_count": 259,
   "metadata": {},
   "outputs": [
    {
     "name": "stdout",
     "output_type": "stream",
     "text": [
      "[[[1. 1. 1. 1. 1. 1. 1. 1. 1. 1.]\n",
      "  [1. 1. 1. 1. 1. 1. 1. 1. 1. 1.]\n",
      "  [1. 1. 1. 1. 1. 1. 1. 1. 1. 1.]\n",
      "  [1. 1. 1. 1. 1. 1. 1. 1. 1. 1.]\n",
      "  [1. 1. 1. 1. 1. 1. 1. 1. 1. 1.]\n",
      "  [1. 1. 1. 1. 1. 1. 1. 1. 1. 1.]\n",
      "  [1. 1. 1. 1. 1. 1. 1. 1. 1. 1.]\n",
      "  [1. 1. 1. 1. 1. 1. 1. 1. 1. 1.]\n",
      "  [1. 1. 1. 1. 1. 1. 1. 1. 1. 1.]\n",
      "  [1. 1. 1. 1. 1. 1. 1. 1. 1. 1.]]\n",
      "\n",
      " [[1. 1. 1. 1. 1. 1. 1. 1. 1. 1.]\n",
      "  [1. 1. 1. 1. 1. 1. 1. 1. 1. 1.]\n",
      "  [1. 1. 1. 1. 1. 1. 1. 1. 1. 1.]\n",
      "  [1. 1. 1. 1. 1. 1. 1. 1. 1. 1.]\n",
      "  [1. 1. 1. 1. 1. 1. 1. 1. 1. 1.]\n",
      "  [1. 1. 1. 1. 1. 1. 1. 1. 1. 1.]\n",
      "  [1. 1. 1. 1. 1. 1. 1. 1. 1. 1.]\n",
      "  [1. 1. 1. 1. 1. 1. 1. 1. 1. 1.]\n",
      "  [1. 1. 1. 1. 1. 1. 1. 1. 1. 1.]\n",
      "  [1. 1. 1. 1. 1. 1. 1. 1. 1. 1.]]\n",
      "\n",
      " [[1. 1. 1. 1. 1. 1. 1. 1. 1. 1.]\n",
      "  [1. 1. 1. 1. 1. 1. 1. 1. 1. 1.]\n",
      "  [1. 1. 1. 1. 1. 1. 1. 1. 1. 1.]\n",
      "  [1. 1. 1. 1. 1. 1. 1. 1. 1. 1.]\n",
      "  [1. 1. 1. 1. 1. 1. 1. 1. 1. 1.]\n",
      "  [1. 1. 1. 1. 1. 1. 1. 1. 1. 1.]\n",
      "  [1. 1. 1. 1. 1. 1. 1. 1. 1. 1.]\n",
      "  [1. 1. 1. 1. 1. 1. 1. 1. 1. 1.]\n",
      "  [1. 1. 1. 1. 1. 1. 1. 1. 1. 1.]\n",
      "  [1. 1. 1. 1. 1. 1. 1. 1. 1. 1.]]\n",
      "\n",
      " [[1. 1. 1. 1. 1. 1. 1. 1. 1. 1.]\n",
      "  [1. 1. 1. 1. 1. 1. 1. 1. 1. 1.]\n",
      "  [1. 1. 1. 1. 1. 1. 1. 1. 1. 1.]\n",
      "  [1. 1. 1. 1. 1. 1. 1. 1. 1. 1.]\n",
      "  [1. 1. 1. 1. 1. 1. 1. 1. 1. 1.]\n",
      "  [1. 1. 1. 1. 1. 1. 1. 1. 1. 1.]\n",
      "  [1. 1. 1. 1. 1. 1. 1. 1. 1. 1.]\n",
      "  [1. 1. 1. 1. 1. 1. 1. 1. 1. 1.]\n",
      "  [1. 1. 1. 1. 1. 1. 1. 1. 1. 1.]\n",
      "  [1. 1. 1. 1. 1. 1. 1. 1. 1. 1.]]\n",
      "\n",
      " [[1. 1. 1. 1. 1. 1. 1. 1. 1. 1.]\n",
      "  [1. 1. 1. 1. 1. 1. 1. 1. 1. 1.]\n",
      "  [1. 1. 1. 1. 1. 1. 1. 1. 1. 1.]\n",
      "  [1. 1. 1. 1. 1. 1. 1. 1. 1. 1.]\n",
      "  [1. 1. 1. 1. 1. 1. 1. 1. 1. 1.]\n",
      "  [1. 1. 1. 1. 1. 1. 1. 1. 1. 1.]\n",
      "  [1. 1. 1. 1. 1. 1. 1. 1. 1. 1.]\n",
      "  [1. 1. 1. 1. 1. 1. 1. 1. 1. 1.]\n",
      "  [1. 1. 1. 1. 1. 1. 1. 1. 1. 1.]\n",
      "  [1. 1. 1. 1. 1. 1. 1. 1. 1. 1.]]]\n",
      "[[[1.]\n",
      "  [1.]\n",
      "  [1.]\n",
      "  [1.]\n",
      "  [1.]\n",
      "  [1.]\n",
      "  [1.]\n",
      "  [1.]\n",
      "  [1.]\n",
      "  [1.]]\n",
      "\n",
      " [[1.]\n",
      "  [1.]\n",
      "  [1.]\n",
      "  [1.]\n",
      "  [1.]\n",
      "  [1.]\n",
      "  [1.]\n",
      "  [1.]\n",
      "  [1.]\n",
      "  [1.]]\n",
      "\n",
      " [[1.]\n",
      "  [1.]\n",
      "  [1.]\n",
      "  [1.]\n",
      "  [1.]\n",
      "  [1.]\n",
      "  [1.]\n",
      "  [1.]\n",
      "  [1.]\n",
      "  [1.]]\n",
      "\n",
      " [[1.]\n",
      "  [1.]\n",
      "  [1.]\n",
      "  [1.]\n",
      "  [1.]\n",
      "  [1.]\n",
      "  [1.]\n",
      "  [1.]\n",
      "  [1.]\n",
      "  [1.]]\n",
      "\n",
      " [[1.]\n",
      "  [1.]\n",
      "  [1.]\n",
      "  [1.]\n",
      "  [1.]\n",
      "  [1.]\n",
      "  [1.]\n",
      "  [1.]\n",
      "  [1.]\n",
      "  [1.]]]\n",
      "[[50.]\n",
      " [50.]\n",
      " [50.]\n",
      " [50.]\n",
      " [50.]\n",
      " [50.]\n",
      " [50.]\n",
      " [50.]\n",
      " [50.]\n",
      " [50.]]\n"
     ]
    }
   ],
   "source": [
    "p, n = 5, 10\n",
    "M = np.ones((p,n,n))\n",
    "V = np.ones((p,n,1))\n",
    "S = np.tensordot(M, V, axes=[[0, 2], [0, 1]])\n",
    "print(S)\n",
    "# It works, because:\n",
    "# M is (p,n,n)\n",
    "# V is (p,n,1)\n",
    "# Thus, summing over the paired axes 0 and 0 (of M and V independently),\n",
    "# and 2 and 1, to remain with a (n,1) vector."
   ]
  },
  {
   "cell_type": "markdown",
   "metadata": {},
   "source": [
    "#### 87. Consider a 16x16 array, how to get the block-sum (block size is 4x4)? \n",
    "`hint: np.add.reduceat, from numpy.lib.stride_tricks import sliding_window_view (np>=1.20.0)`"
   ]
  },
  {
   "cell_type": "code",
   "execution_count": 264,
   "metadata": {},
   "outputs": [
    {
     "name": "stdout",
     "output_type": "stream",
     "text": [
      "[[16. 16. 16. 16.]\n",
      " [16. 16. 16. 16.]\n",
      " [16. 16. 16. 16.]\n",
      " [16. 16. 16. 16.]]\n",
      "[[16. 16. 16. 16.]\n",
      " [16. 16. 16. 16.]\n",
      " [16. 16. 16. 16.]\n",
      " [16. 16. 16. 16.]]\n",
      "[[16. 16. 16. 16.]\n",
      " [16. 16. 16. 16.]\n",
      " [16. 16. 16. 16.]\n",
      " [16. 16. 16. 16.]]\n"
     ]
    }
   ],
   "source": [
    "Z = np.ones((16,16))\n",
    "k = 4\n",
    "S = np.add.reduceat(np.add.reduceat(Z, np.arange(0, Z.shape[0], k), axis=0),\n",
    "                                       np.arange(0, Z.shape[1], k), axis=1)\n",
    "print(S)\n",
    "\n",
    "#or\n",
    "Z = np.ones((16,16))\n",
    "k = 4\n",
    "windows = np.lib.stride_tricks.sliding_window_view(Z, (k, k))\n",
    "S = windows[::k, ::k, ...].sum(axis=(-2, -1))\n",
    "print(S)\n",
    "\n",
    "#or\n",
    "Z = np.ones((16, 16))\n",
    "k = 4\n",
    "print(sliding_window_view(Z, window_shape=(k, k))[::k, ::k].sum(axis=(-2, -1)))"
   ]
  },
  {
   "cell_type": "markdown",
   "metadata": {},
   "source": [
    "#### 88. How to implement the Game of Life using numpy arrays? \n",
    "`No hints provided...`"
   ]
  },
  {
   "cell_type": "code",
   "execution_count": 265,
   "metadata": {},
   "outputs": [
    {
     "name": "stdout",
     "output_type": "stream",
     "text": [
      "[[0 0 0 ... 0 0 0]\n",
      " [0 0 0 ... 0 0 0]\n",
      " [0 0 0 ... 0 0 0]\n",
      " ...\n",
      " [0 0 0 ... 0 0 0]\n",
      " [0 0 0 ... 0 0 0]\n",
      " [0 0 0 ... 0 0 0]]\n"
     ]
    }
   ],
   "source": [
    "def iterate(Z):\n",
    "    # Count neighbours\n",
    "    N = (Z[0:-2,0:-2] + Z[0:-2,1:-1] + Z[0:-2,2:] +\n",
    "         Z[1:-1,0:-2]                + Z[1:-1,2:] +\n",
    "         Z[2:  ,0:-2] + Z[2:  ,1:-1] + Z[2:  ,2:])\n",
    "\n",
    "    # Apply rules\n",
    "    birth = (N==3) & (Z[1:-1,1:-1]==0)\n",
    "    survive = ((N==2) | (N==3)) & (Z[1:-1,1:-1]==1)\n",
    "    Z[...] = 0\n",
    "    Z[1:-1,1:-1][birth | survive] = 1\n",
    "    return Z\n",
    "\n",
    "Z = np.random.randint(0,2,(50,50))\n",
    "for i in range(100): Z = iterate(Z)\n",
    "print(Z)"
   ]
  },
  {
   "cell_type": "markdown",
   "metadata": {},
   "source": [
    "#### 89. How to get the n largest values of an array \n",
    "`hint: np.argsort | np.argpartition`"
   ]
  },
  {
   "cell_type": "code",
   "execution_count": 266,
   "metadata": {},
   "outputs": [
    {
     "name": "stdout",
     "output_type": "stream",
     "text": [
      "[9995 9996 9997 9998 9999]\n",
      "[9998 9999 9997 9996 9995]\n"
     ]
    }
   ],
   "source": [
    "Z = np.arange(10000)\n",
    "np.random.shuffle(Z)\n",
    "n = 5\n",
    "\n",
    "# Slow\n",
    "print (Z[np.argsort(Z)[-n:]])\n",
    "\n",
    "# Fast\n",
    "print (Z[np.argpartition(-Z,n)[:n]])"
   ]
  },
  {
   "cell_type": "markdown",
   "metadata": {},
   "source": [
    "#### 90. Given an arbitrary number of vectors, build the cartesian product (every combinations of every item) \n",
    "`hint: np.indices`"
   ]
  },
  {
   "cell_type": "code",
   "execution_count": 267,
   "metadata": {},
   "outputs": [
    {
     "name": "stdout",
     "output_type": "stream",
     "text": [
      "[[1 4 6]\n",
      " [1 4 7]\n",
      " [1 5 6]\n",
      " [1 5 7]\n",
      " [2 4 6]\n",
      " [2 4 7]\n",
      " [2 5 6]\n",
      " [2 5 7]\n",
      " [3 4 6]\n",
      " [3 4 7]\n",
      " [3 5 6]\n",
      " [3 5 7]]\n"
     ]
    }
   ],
   "source": [
    "def cartesian(arrays):\n",
    "    arrays = [np.asarray(a) for a in arrays]\n",
    "    shape = (len(x) for x in arrays)\n",
    "\n",
    "    ix = np.indices(shape, dtype=int)\n",
    "    ix = ix.reshape(len(arrays), -1).T\n",
    "\n",
    "    for n, arr in enumerate(arrays):\n",
    "        ix[:, n] = arrays[n][ix[:, n]]\n",
    "\n",
    "    return ix\n",
    "\n",
    "print (cartesian(([1, 2, 3], [4, 5], [6, 7])))"
   ]
  },
  {
   "cell_type": "markdown",
   "metadata": {},
   "source": [
    "#### 91. How to create a record array from a regular array? \n",
    "`hint: np.core.records.fromarrays`"
   ]
  },
  {
   "cell_type": "code",
   "execution_count": 268,
   "metadata": {},
   "outputs": [
    {
     "name": "stdout",
     "output_type": "stream",
     "text": [
      "[(b'Hello', 2.5, 3) (b'World', 3.6, 2)]\n"
     ]
    }
   ],
   "source": [
    "Z = np.array([(\"Hello\", 2.5, 3),\n",
    "              (\"World\", 3.6, 2)])\n",
    "R = np.core.records.fromarrays(Z.T,\n",
    "                               names='col1, col2, col3',\n",
    "                               formats = 'S8, f8, i8')\n",
    "print(R)"
   ]
  },
  {
   "cell_type": "markdown",
   "metadata": {},
   "source": [
    "#### 92. Consider a large vector Z, compute Z to the power of 3 using 3 different methods \n",
    "`hint: np.power, *, np.einsum`"
   ]
  },
  {
   "cell_type": "code",
   "execution_count": 275,
   "metadata": {},
   "outputs": [
    {
     "name": "stdout",
     "output_type": "stream",
     "text": [
      "[0.4859929  0.14788143 0.613465   ... 0.10807608 0.72360352 0.35875191]\n",
      "134 ms ± 1.24 ms per loop (mean ± std. dev. of 7 runs, 10 loops each)\n",
      "21.8 ms ± 2.69 ms per loop (mean ± std. dev. of 7 runs, 10 loops each)\n",
      "13.4 ms ± 397 µs per loop (mean ± std. dev. of 7 runs, 100 loops each)\n"
     ]
    }
   ],
   "source": [
    "x = np.random.rand(int(5e6))\n",
    "print(x)\n",
    "%timeit np.power(x,3)\n",
    "x = np.random.rand(int(5e6))\n",
    "%timeit x*x*x\n",
    "x = np.random.rand(int(5e6))\n",
    "%timeit np.einsum('i,i,i->i',x,x,x)"
   ]
  },
  {
   "cell_type": "markdown",
   "metadata": {},
   "source": [
    "#### 93. Consider two arrays A and B of shape (8,3) and (2,2). How to find rows of A that contain elements of each row of B regardless of the order of the elements in B? \n",
    "`hint: np.where`"
   ]
  },
  {
   "cell_type": "code",
   "execution_count": 280,
   "metadata": {},
   "outputs": [
    {
     "name": "stdout",
     "output_type": "stream",
     "text": [
      "[[4 2 0]\n",
      " [0 3 2]\n",
      " [3 2 0]\n",
      " [2 0 2]\n",
      " [0 3 4]\n",
      " [3 0 2]\n",
      " [4 2 3]\n",
      " [2 0 0]]\n"
     ]
    },
    {
     "data": {
      "image/png": "[encoded data removed]",
      "text/plain": [
       "<Figure size 129x344 with 1 Axes>"
      ]
     },
     "metadata": {},
     "output_type": "display_data"
    },
    {
     "name": "stdout",
     "output_type": "stream",
     "text": [
      "[[1 4]\n",
      " [3 0]]\n"
     ]
    },
    {
     "data": {
      "image/png": "[encoded data removed]",
      "text/plain": [
       "<Figure size 86x86 with 1 Axes>"
      ]
     },
     "metadata": {},
     "output_type": "display_data"
    },
    {
     "name": "stdout",
     "output_type": "stream",
     "text": [
      "[0 4 6]\n"
     ]
    }
   ],
   "source": [
    "A = np.random.randint(0,5,(8,3))\n",
    "show_array2(A)\n",
    "B = np.random.randint(0,5,(2,2))\n",
    "show_array2(B)\n",
    "C = (A[..., np.newaxis, np.newaxis] == B)\n",
    "rows = np.where(C.any((3,1)).all(1))[0]\n",
    "print(rows)"
   ]
  },
  {
   "cell_type": "markdown",
   "metadata": {},
   "source": [
    "#### 94. Considering a 10x3 matrix, extract rows with unequal values (e.g. [2,2,3]) \n",
    "`No hints provided...`"
   ]
  },
  {
   "cell_type": "code",
   "execution_count": 284,
   "metadata": {},
   "outputs": [
    {
     "name": "stdout",
     "output_type": "stream",
     "text": [
      "[[0 1 0]\n",
      " [1 1 0]\n",
      " [0 0 1]\n",
      " [0 1 1]\n",
      " [1 0 1]\n",
      " [1 0 1]\n",
      " [1 0 1]\n",
      " [0 1 0]]\n",
      "[[0 1 0]\n",
      " [1 1 0]\n",
      " [0 0 1]\n",
      " [0 1 1]\n",
      " [1 0 1]\n",
      " [1 0 1]\n",
      " [1 0 1]\n",
      " [0 1 0]]\n"
     ]
    }
   ],
   "source": [
    "Z = np.random.randint(0,2,(10,3))\n",
    "# print(Z)\n",
    "# solution for arrays of all dtypes (including string arrays and record arrays)\n",
    "E = np.all(Z[:,1:] == Z[:,:-1], axis=1)\n",
    "U = Z[~E]\n",
    "print(U)\n",
    "# soluiton for numerical arrays only, will work for any number of columns in Z\n",
    "U = Z[Z.max(axis=1) != Z.min(axis=1),:]\n",
    "print(U)"
   ]
  },
  {
   "cell_type": "markdown",
   "metadata": {},
   "source": [
    "#### 95. Convert a vector of ints into a matrix binary representation \n",
    "`hint: np.unpackbits`"
   ]
  },
  {
   "cell_type": "code",
   "execution_count": 318,
   "metadata": {},
   "outputs": [
    {
     "name": "stdout",
     "output_type": "stream",
     "text": [
      "[[0 0 0 0 0 0 0 0]\n",
      " [0 0 0 0 0 0 0 1]\n",
      " [0 0 0 0 0 0 1 0]\n",
      " [0 0 0 0 0 1 0 0]\n",
      " [0 0 0 0 1 0 0 0]\n",
      " [0 0 0 1 0 0 0 0]\n",
      " [0 0 1 0 0 0 0 0]\n",
      " [0 1 0 0 0 0 0 0]\n",
      " [1 0 0 0 0 0 0 0]\n",
      " [1 1 1 1 1 1 1 1]\n",
      " [0 0 0 0 0 0 0 0]]\n"
     ]
    },
    {
     "data": {
      "image/png": "[encoded data removed]",
      "text/plain": [
       "<Figure size 344x473 with 1 Axes>"
      ]
     },
     "metadata": {},
     "output_type": "display_data"
    },
    {
     "name": "stdout",
     "output_type": "stream",
     "text": [
      "[[1 1 1 1 1 1 1 1]\n",
      " [1 1 1 1 1 1 1 2]\n",
      " [1 1 1 1 1 1 2 1]\n",
      " [1 1 1 1 1 2 1 1]\n",
      " [1 1 1 1 2 1 1 1]\n",
      " [1 1 1 2 1 1 1 1]\n",
      " [1 1 2 1 1 1 1 1]\n",
      " [1 2 1 1 1 1 1 1]\n",
      " [2 1 1 1 1 1 1 1]\n",
      " [2 2 2 2 2 2 2 2]\n",
      " [1 1 1 1 1 1 1 1]]\n"
     ]
    },
    {
     "data": {
      "image/png": "[encoded data removed]",
      "text/plain": [
       "<Figure size 344x473 with 1 Axes>"
      ]
     },
     "metadata": {},
     "output_type": "display_data"
    }
   ],
   "source": [
    "I = np.array([0, 1, 2, 4, 8, 16, 32, 64, 128, 255, 256])\n",
    "B = ((I.reshape(-1,1) & (2**np.arange(8))) != 0).astype(int)\n",
    "E = B[:,::-1]\n",
    "show_array2(E)\n",
    "F = E + 1\n",
    "show_array2(F)"
   ]
  },
  {
   "cell_type": "code",
   "execution_count": 323,
   "metadata": {},
   "outputs": [
    {
     "name": "stdout",
     "output_type": "stream",
     "text": [
      "[[0 0 0 0 0 0 0 0 0 0 0 0 0 0 0 1]\n",
      " [0 0 0 0 0 0 0 0 0 0 0 0 0 0 0 1]\n",
      " [0 0 0 0 0 0 0 0 0 0 0 0 0 0 1 0]\n",
      " [0 0 0 0 0 0 0 0 0 0 0 0 0 0 1 1]\n",
      " [0 0 0 0 0 0 0 0 0 0 0 0 0 1 0 1]\n",
      " [0 0 0 0 0 0 0 0 0 0 0 0 1 0 0 0]\n",
      " [0 0 0 0 0 0 0 0 0 0 0 0 1 1 0 1]\n",
      " [0 0 0 0 0 0 0 0 0 0 0 1 0 1 0 1]\n",
      " [0 0 0 0 0 0 0 0 0 0 1 0 0 0 1 0]\n",
      " [0 0 0 0 0 0 0 0 0 0 1 1 0 1 1 1]\n",
      " [0 0 0 0 0 0 0 0 0 1 0 1 1 0 0 1]\n",
      " [0 0 0 0 0 0 0 0 1 0 0 1 0 0 0 0]\n",
      " [0 0 0 0 0 0 0 0 1 1 1 0 1 0 0 1]\n",
      " [0 0 0 0 0 0 0 1 0 1 1 1 1 0 0 1]\n",
      " [0 0 0 0 0 0 1 0 0 1 1 0 0 0 1 0]\n",
      " [0 0 0 0 0 0 1 1 1 1 0 1 1 0 1 1]\n",
      " [0 0 0 0 0 1 1 0 0 0 1 1 1 1 0 1]\n",
      " [0 0 0 0 1 0 1 0 0 0 0 1 1 0 0 0]\n",
      " [0 0 0 1 0 0 0 0 0 1 0 1 0 1 0 1]\n",
      " [0 0 0 1 1 0 1 0 0 1 1 0 1 1 0 1]\n",
      " [0 0 1 0 1 0 1 0 1 1 0 0 0 0 1 0]\n",
      " [0 1 0 0 0 1 0 1 0 0 1 0 1 1 1 1]\n",
      " [0 1 1 0 1 1 1 1 1 1 1 1 0 0 0 1]\n",
      " [1 0 1 1 0 1 0 1 0 0 1 0 0 0 0 0]]\n"
     ]
    },
    {
     "data": {
      "image/png": "[encoded data removed]",
      "text/plain": [
       "<Figure size 688x1032 with 1 Axes>"
      ]
     },
     "metadata": {},
     "output_type": "display_data"
    },
    {
     "name": "stdout",
     "output_type": "stream",
     "text": [
      "[[1 1 1 1 1 1 1 1 1 1 1 1 1 1 1 2]\n",
      " [1 1 1 1 1 1 1 1 1 1 1 1 1 1 1 2]\n",
      " [1 1 1 1 1 1 1 1 1 1 1 1 1 1 2 1]\n",
      " [1 1 1 1 1 1 1 1 1 1 1 1 1 1 2 2]\n",
      " [1 1 1 1 1 1 1 1 1 1 1 1 1 2 1 2]\n",
      " [1 1 1 1 1 1 1 1 1 1 1 1 2 1 1 1]\n",
      " [1 1 1 1 1 1 1 1 1 1 1 1 2 2 1 2]\n",
      " [1 1 1 1 1 1 1 1 1 1 1 2 1 2 1 2]\n",
      " [1 1 1 1 1 1 1 1 1 1 2 1 1 1 2 1]\n",
      " [1 1 1 1 1 1 1 1 1 1 2 2 1 2 2 2]\n",
      " [1 1 1 1 1 1 1 1 1 2 1 2 2 1 1 2]\n",
      " [1 1 1 1 1 1 1 1 2 1 1 2 1 1 1 1]\n",
      " [1 1 1 1 1 1 1 1 2 2 2 1 2 1 1 2]\n",
      " [1 1 1 1 1 1 1 2 1 2 2 2 2 1 1 2]\n",
      " [1 1 1 1 1 1 2 1 1 2 2 1 1 1 2 1]\n",
      " [1 1 1 1 1 1 2 2 2 2 1 2 2 1 2 2]\n",
      " [1 1 1 1 1 2 2 1 1 1 2 2 2 2 1 2]\n",
      " [1 1 1 1 2 1 2 1 1 1 1 2 2 1 1 1]\n",
      " [1 1 1 2 1 1 1 1 1 2 1 2 1 2 1 2]\n",
      " [1 1 1 2 2 1 2 1 1 2 2 1 2 2 1 2]\n",
      " [1 1 2 1 2 1 2 1 2 2 1 1 1 1 2 1]\n",
      " [1 2 1 1 1 2 1 2 1 1 2 1 2 2 2 2]\n",
      " [1 2 2 1 2 2 2 2 2 2 2 2 1 1 1 2]\n",
      " [2 1 2 2 1 2 1 2 1 1 2 1 1 1 1 1]]\n"
     ]
    },
    {
     "data": {
      "image/png": "[encoded data removed]",
      "text/plain": [
       "<Figure size 688x1032 with 1 Axes>"
      ]
     },
     "metadata": {},
     "output_type": "display_data"
    }
   ],
   "source": [
    "I = np.array([1, 1, 2, 3, 5, 8, 13, 21, 34, 55, 89, 144, 233, 377, 610, 987, 1597, 2584, 4181, 6765, 10946, 17711, 28657, 46368])\n",
    "B = ((I.reshape(-1,1) & (2**np.arange(16))) != 0).astype(int)\n",
    "E = B[:,::-1]\n",
    "show_array2(E)\n",
    "F = E + 1\n",
    "show_array2(F)"
   ]
  },
  {
   "cell_type": "code",
   "execution_count": 305,
   "metadata": {},
   "outputs": [
    {
     "name": "stdout",
     "output_type": "stream",
     "text": [
      "[[0 0 0 0 0 0 0 0]\n",
      " [0 0 0 0 0 0 0 1]\n",
      " [0 0 0 0 0 0 1 0]\n",
      " [0 0 0 0 0 0 1 1]\n",
      " [0 0 0 0 0 1 0 0]\n",
      " [0 0 0 0 0 1 0 1]\n",
      " [0 0 0 0 0 1 1 0]\n",
      " [0 0 0 0 0 1 1 1]\n",
      " [0 0 0 0 1 0 0 0]\n",
      " [0 0 0 0 1 0 0 1]\n",
      " [0 0 0 0 1 0 1 0]\n",
      " [0 0 0 0 1 0 1 1]\n",
      " [0 0 0 0 1 1 0 0]\n",
      " [0 0 0 0 1 1 0 1]\n",
      " [0 0 0 0 1 1 1 0]\n",
      " [0 0 0 0 1 1 1 1]]\n"
     ]
    },
    {
     "data": {
      "image/png": "[encoded data removed]",
      "text/plain": [
       "<Figure size 344x688 with 1 Axes>"
      ]
     },
     "metadata": {},
     "output_type": "display_data"
    },
    {
     "name": "stdout",
     "output_type": "stream",
     "text": [
      "[[0 0 0 0 0 0 0 0]\n",
      " [0 0 0 0 0 0 1 0]\n",
      " [0 0 0 0 0 1 0 0]\n",
      " [0 0 0 0 0 1 1 0]\n",
      " [0 0 0 0 1 0 0 0]\n",
      " [0 0 0 0 1 0 1 0]\n",
      " [0 0 0 0 1 1 0 0]\n",
      " [0 0 0 0 1 1 1 0]\n",
      " [0 0 0 1 0 0 0 0]\n",
      " [0 0 0 1 0 0 1 0]\n",
      " [0 0 0 1 0 1 0 0]\n",
      " [0 0 0 1 0 1 1 0]\n",
      " [0 0 0 1 1 0 0 0]\n",
      " [0 0 0 1 1 0 1 0]\n",
      " [0 0 0 1 1 1 0 0]\n",
      " [0 0 0 1 1 1 1 0]]\n"
     ]
    },
    {
     "data": {
      "image/png": "[encoded data removed]",
      "text/plain": [
       "<Figure size 344x688 with 1 Axes>"
      ]
     },
     "metadata": {},
     "output_type": "display_data"
    },
    {
     "name": "stdout",
     "output_type": "stream",
     "text": [
      "[[0 0 0 0 0 0 0 0]\n",
      " [0 0 0 0 0 1 0 0]\n",
      " [0 0 0 0 1 0 0 0]\n",
      " [0 0 0 0 1 1 0 0]\n",
      " [0 0 0 1 0 0 0 0]\n",
      " [0 0 0 1 0 1 0 0]\n",
      " [0 0 0 1 1 0 0 0]\n",
      " [0 0 0 1 1 1 0 0]\n",
      " [0 0 1 0 0 0 0 0]\n",
      " [0 0 1 0 0 1 0 0]\n",
      " [0 0 1 0 1 0 0 0]\n",
      " [0 0 1 0 1 1 0 0]\n",
      " [0 0 1 1 0 0 0 0]\n",
      " [0 0 1 1 0 1 0 0]\n",
      " [0 0 1 1 1 0 0 0]\n",
      " [0 0 1 1 1 1 0 0]]\n"
     ]
    },
    {
     "data": {
      "image/png": "[encoded data removed]",
      "text/plain": [
       "<Figure size 344x688 with 1 Axes>"
      ]
     },
     "metadata": {},
     "output_type": "display_data"
    }
   ],
   "source": [
    "I = np.arange(0,16,1)\n",
    "B = ((I.reshape(-1,1) & (2**np.arange(8))) != 0).astype(int)\n",
    "E = B[:,::-1]\n",
    "show_array2(E)\n",
    "\n",
    "I = np.arange(0,32,2)\n",
    "B = ((I.reshape(-1,1) & (2**np.arange(8))) != 0).astype(int)\n",
    "E = B[:,::-1]\n",
    "show_array2(E)\n",
    "\n",
    "I = np.arange(0,64,4)\n",
    "B = ((I.reshape(-1,1) & (2**np.arange(8))) != 0).astype(int)\n",
    "E = B[:,::-1]\n",
    "show_array2(E)"
   ]
  },
  {
   "cell_type": "markdown",
   "metadata": {},
   "source": [
    "#### 96. Given a two dimensional array, how to extract unique rows? \n",
    "`hint: np.ascontiguousarray | np.unique`"
   ]
  },
  {
   "cell_type": "code",
   "execution_count": 9,
   "metadata": {},
   "outputs": [
    {
     "name": "stdout",
     "output_type": "stream",
     "text": [
      "[[0 0 0]\n",
      " [0 0 1]\n",
      " [1 0 0]\n",
      " [1 0 1]\n",
      " [1 1 0]]\n",
      "[[0 0 0]\n",
      " [0 0 1]\n",
      " [1 0 0]\n",
      " [1 0 1]\n",
      " [1 1 0]]\n"
     ]
    }
   ],
   "source": [
    "Z = np.random.randint(0,2,(6,3))\n",
    "T = np.ascontiguousarray(Z).view(np.dtype((np.void, Z.dtype.itemsize * Z.shape[1])))\n",
    "_, idx = np.unique(T, return_index=True)\n",
    "uZ = Z[idx]\n",
    "print(uZ)\n",
    "\n",
    "#or\n",
    "uZ = np.unique(Z, axis=0)\n",
    "print(uZ)"
   ]
  },
  {
   "cell_type": "markdown",
   "metadata": {},
   "source": [
    "#### 97. Considering 2 vectors A & B, write the einsum equivalent of inner, outer, sum, and mul function \n",
    "`hint: np.einsum`"
   ]
  },
  {
   "cell_type": "code",
   "execution_count": 12,
   "metadata": {},
   "outputs": [
    {
     "name": "stdout",
     "output_type": "stream",
     "text": [
      "[[4.79867799]]\n"
     ]
    },
    {
     "data": {
      "image/png": "[encoded data removed]",
      "text/plain": [
       "<Figure size 43x43 with 1 Axes>"
      ]
     },
     "metadata": {},
     "output_type": "display_data"
    },
    {
     "name": "stdout",
     "output_type": "stream",
     "text": [
      "[[5.74723662e-02 8.81009242e-02 3.26943194e-01 1.64699574e-01\n",
      "  7.53150974e-01 2.32526597e-02 2.78465316e-01 3.85912307e-01\n",
      "  3.55562986e-04 3.29430988e-02]]\n"
     ]
    },
    {
     "data": {
      "image/png": "[encoded data removed]",
      "text/plain": [
       "<Figure size 430x43 with 1 Axes>"
      ]
     },
     "metadata": {},
     "output_type": "display_data"
    },
    {
     "name": "stdout",
     "output_type": "stream",
     "text": [
      "[[2.11129598]]\n"
     ]
    },
    {
     "data": {
      "image/png": "[encoded data removed]",
      "text/plain": [
       "<Figure size 43x43 with 1 Axes>"
      ]
     },
     "metadata": {},
     "output_type": "display_data"
    },
    {
     "name": "stdout",
     "output_type": "stream",
     "text": [
      "[[5.74723662e-02 1.04472882e-01 2.17819118e-01 6.62501559e-02\n",
      "  3.53086822e-01 3.08601332e-02 2.14787959e-01 3.60688997e-01\n",
      "  4.22603531e-04 3.52212218e-02]\n",
      " [4.84658646e-02 8.81009242e-02 1.83684658e-01 5.58680859e-02\n",
      "  2.97754543e-01 2.60240380e-02 1.81128512e-01 3.04165380e-01\n",
      "  3.56377280e-04 2.97016999e-02]\n",
      " [8.62651503e-02 1.56812213e-01 3.26943194e-01 9.94404797e-02\n",
      "  5.29977967e-01 4.63205921e-02 3.22393471e-01 5.41388717e-01\n",
      "  6.34321494e-04 5.28665200e-02]\n",
      " [1.42877765e-01 2.59722244e-01 5.41503872e-01 1.64699574e-01\n",
      "  8.77782826e-01 7.67190766e-02 5.33968334e-01 8.96682027e-01\n",
      "  1.05060313e-03 8.75608539e-02]\n",
      " [1.22591289e-01 2.22845624e-01 4.64618533e-01 1.41314732e-01\n",
      "  7.53150974e-01 6.58261310e-02 4.58152927e-01 7.69366775e-01\n",
      "  9.01433419e-04 7.51285403e-02]\n",
      " [4.33045885e-02 7.87187910e-02 1.64123524e-01 4.99185249e-02\n",
      "  2.66045763e-01 2.32526597e-02 1.61839590e-01 2.71773891e-01\n",
      "  3.18425589e-04 2.65386762e-02]\n",
      " [7.45109764e-02 1.35445554e-01 2.82395110e-01 8.58910836e-02\n",
      "  4.57765108e-01 4.00091176e-02 2.78465316e-01 4.67621070e-01\n",
      "  5.47891167e-04 4.56631214e-02]\n",
      " [6.14914610e-02 1.11778766e-01 2.33051407e-01 7.08830896e-02\n",
      "  3.77778505e-01 3.30182104e-02 2.29808277e-01 3.85912307e-01\n",
      "  4.52156581e-04 3.76842739e-02]\n",
      " [4.83551239e-02 8.78996203e-02 1.83264952e-01 5.57404316e-02\n",
      "  2.97074197e-01 2.59645751e-02 1.80714647e-01 3.03470386e-01\n",
      "  3.55562986e-04 2.96338338e-02]\n",
      " [5.37550300e-02 9.77155335e-02 2.03730489e-01 6.19650687e-02\n",
      "  3.30249022e-01 2.88640872e-02 2.00895386e-01 3.37359485e-01\n",
      "  3.95269362e-04 3.29430988e-02]]\n"
     ]
    },
    {
     "data": {
      "image/png": "[encoded data removed]",
      "text/plain": [
       "<Figure size 430x430 with 1 Axes>"
      ]
     },
     "metadata": {},
     "output_type": "display_data"
    }
   ],
   "source": [
    "# Make sure to read: http://ajcr.net/Basic-guide-to-einsum/\n",
    "\n",
    "A = np.random.uniform(0,1,10)\n",
    "B = np.random.uniform(0,1,10)\n",
    "\n",
    "show_array2(np.einsum('i->', A))       # np.sum(A)\n",
    "show_array2(np.einsum('i,i->i', A, B)) # A * B\n",
    "show_array2(np.einsum('i,i', A, B))    # np.inner(A, B)\n",
    "show_array2(np.einsum('i,j->ij', A, B))    # np.outer(A, B)"
   ]
  },
  {
   "cell_type": "markdown",
   "metadata": {},
   "source": [
    "#### 98. Considering a path described by two vectors (X,Y), how to sample it using equidistant samples ?\n",
    "`hint: np.cumsum, np.interp`"
   ]
  },
  {
   "cell_type": "code",
   "execution_count": 13,
   "metadata": {},
   "outputs": [],
   "source": [
    "phi = np.arange(0, 10*np.pi, 0.1)\n",
    "a = 1\n",
    "x = a*phi*np.cos(phi)\n",
    "y = a*phi*np.sin(phi)\n",
    "\n",
    "dr = (np.diff(x)**2 + np.diff(y)**2)**.5 # segment lengths\n",
    "r = np.zeros_like(x)\n",
    "r[1:] = np.cumsum(dr)                # integrate path\n",
    "r_int = np.linspace(0, r.max(), 200) # regular spaced path\n",
    "x_int = np.interp(r_int, r, x)       # integrate path\n",
    "y_int = np.interp(r_int, r, y)"
   ]
  },
  {
   "cell_type": "markdown",
   "metadata": {},
   "source": [
    "#### 99. Given an integer n and a 2D array X, select from X the rows which can be interpreted as draws from a multinomial distribution with n degrees, i.e., the rows which only contain integers and which sum to n. \n",
    "`hint: np.logical_and.reduce, np.mod`"
   ]
  },
  {
   "cell_type": "code",
   "execution_count": 15,
   "metadata": {},
   "outputs": [
    {
     "name": "stdout",
     "output_type": "stream",
     "text": [
      "[[2. 0. 1. 1.]]\n"
     ]
    }
   ],
   "source": [
    "X = np.asarray([[1.0, 0.0, 3.0, 8.0],\n",
    "                [2.0, 0.0, 1.0, 1.0],\n",
    "                [1.5, 2.5, 1.0, 0.0]])\n",
    "n = 4\n",
    "M = np.logical_and.reduce(np.mod(X, 1) == 0, axis=-1)\n",
    "M &= (X.sum(axis=-1) == n)\n",
    "print(X[M])"
   ]
  },
  {
   "cell_type": "markdown",
   "metadata": {},
   "source": [
    "#### 100. Compute bootstrapped 95% confidence intervals for the mean of a 1D array X (i.e., resample the elements of an array with replacement N times, compute the mean of each sample, and then compute percentiles over the means). \n",
    "`hint: np.percentile`"
   ]
  },
  {
   "cell_type": "code",
   "execution_count": 20,
   "metadata": {},
   "outputs": [
    {
     "name": "stdout",
     "output_type": "stream",
     "text": [
      "[-0.31436862  0.07258524]\n"
     ]
    }
   ],
   "source": [
    "X = np.random.randn(100) # random 1D array\n",
    "N = 1000 # number of bootstrap samples\n",
    "idx = np.random.randint(0, X.size, (N, X.size))\n",
    "means = X[idx].mean(axis=1)\n",
    "confint = np.percentile(means, [2.5, 97.5])\n",
    "print(confint)"
   ]
  }
 ],
 "metadata": {
  "kernelspec": {
   "display_name": "Python 3",
   "language": "python",
   "name": "python3"
  },
  "language_info": {
   "codemirror_mode": {
    "name": "ipython",
    "version": 3
   },
   "file_extension": ".py",
   "mimetype": "text/x-python",
   "name": "python",
   "nbconvert_exporter": "python",
   "pygments_lexer": "ipython3",
   "version": "3.12.0"
  }
 },
 "nbformat": 4,
 "nbformat_minor": 2
}
